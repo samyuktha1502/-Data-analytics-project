{
 "cells": [
  {
   "cell_type": "code",
   "execution_count": 1,
   "id": "21e34767-bf58-4083-8f8f-57e9c6bb6285",
   "metadata": {},
   "outputs": [],
   "source": [
    "import pandas as pd\n",
    "import numpy as np\n",
    "import matplotlib.pyplot as plt\n",
    "import seaborn as sns "
   ]
  },
  {
   "cell_type": "code",
   "execution_count": 5,
   "id": "d5789d57-6084-4fda-83e5-b363d585b32a",
   "metadata": {},
   "outputs": [],
   "source": [
    "bigmart = pd.read_csv(\"train.csv\")"
   ]
  },
  {
   "cell_type": "code",
   "execution_count": 7,
   "id": "d51f87d2-76fb-4df9-b526-dc33406acc21",
   "metadata": {},
   "outputs": [
    {
     "data": {
      "text/html": [
       "<div>\n",
       "<style scoped>\n",
       "    .dataframe tbody tr th:only-of-type {\n",
       "        vertical-align: middle;\n",
       "    }\n",
       "\n",
       "    .dataframe tbody tr th {\n",
       "        vertical-align: top;\n",
       "    }\n",
       "\n",
       "    .dataframe thead th {\n",
       "        text-align: right;\n",
       "    }\n",
       "</style>\n",
       "<table border=\"1\" class=\"dataframe\">\n",
       "  <thead>\n",
       "    <tr style=\"text-align: right;\">\n",
       "      <th></th>\n",
       "      <th>Item_Identifier</th>\n",
       "      <th>Item_Weight</th>\n",
       "      <th>Item_Fat_Content</th>\n",
       "      <th>Item_Visibility</th>\n",
       "      <th>Item_Type</th>\n",
       "      <th>Item_MRP</th>\n",
       "      <th>Outlet_Identifier</th>\n",
       "      <th>Outlet_Establishment_Year</th>\n",
       "      <th>Outlet_Size</th>\n",
       "      <th>Outlet_Location_Type</th>\n",
       "      <th>Outlet_Type</th>\n",
       "      <th>Item_Outlet_Sales</th>\n",
       "    </tr>\n",
       "  </thead>\n",
       "  <tbody>\n",
       "    <tr>\n",
       "      <th>0</th>\n",
       "      <td>FDA15</td>\n",
       "      <td>9.30</td>\n",
       "      <td>Low Fat</td>\n",
       "      <td>0.016047</td>\n",
       "      <td>Dairy</td>\n",
       "      <td>249.8092</td>\n",
       "      <td>OUT049</td>\n",
       "      <td>1999</td>\n",
       "      <td>Medium</td>\n",
       "      <td>Tier 1</td>\n",
       "      <td>Supermarket Type1</td>\n",
       "      <td>3735.1380</td>\n",
       "    </tr>\n",
       "    <tr>\n",
       "      <th>1</th>\n",
       "      <td>DRC01</td>\n",
       "      <td>5.92</td>\n",
       "      <td>Regular</td>\n",
       "      <td>0.019278</td>\n",
       "      <td>Soft Drinks</td>\n",
       "      <td>48.2692</td>\n",
       "      <td>OUT018</td>\n",
       "      <td>2009</td>\n",
       "      <td>Medium</td>\n",
       "      <td>Tier 3</td>\n",
       "      <td>Supermarket Type2</td>\n",
       "      <td>443.4228</td>\n",
       "    </tr>\n",
       "    <tr>\n",
       "      <th>2</th>\n",
       "      <td>FDN15</td>\n",
       "      <td>17.50</td>\n",
       "      <td>Low Fat</td>\n",
       "      <td>0.016760</td>\n",
       "      <td>Meat</td>\n",
       "      <td>141.6180</td>\n",
       "      <td>OUT049</td>\n",
       "      <td>1999</td>\n",
       "      <td>Medium</td>\n",
       "      <td>Tier 1</td>\n",
       "      <td>Supermarket Type1</td>\n",
       "      <td>2097.2700</td>\n",
       "    </tr>\n",
       "    <tr>\n",
       "      <th>3</th>\n",
       "      <td>FDX07</td>\n",
       "      <td>19.20</td>\n",
       "      <td>Regular</td>\n",
       "      <td>0.000000</td>\n",
       "      <td>Fruits and Vegetables</td>\n",
       "      <td>182.0950</td>\n",
       "      <td>OUT010</td>\n",
       "      <td>1998</td>\n",
       "      <td>NaN</td>\n",
       "      <td>Tier 3</td>\n",
       "      <td>Grocery Store</td>\n",
       "      <td>732.3800</td>\n",
       "    </tr>\n",
       "    <tr>\n",
       "      <th>4</th>\n",
       "      <td>NCD19</td>\n",
       "      <td>8.93</td>\n",
       "      <td>Low Fat</td>\n",
       "      <td>0.000000</td>\n",
       "      <td>Household</td>\n",
       "      <td>53.8614</td>\n",
       "      <td>OUT013</td>\n",
       "      <td>1987</td>\n",
       "      <td>High</td>\n",
       "      <td>Tier 3</td>\n",
       "      <td>Supermarket Type1</td>\n",
       "      <td>994.7052</td>\n",
       "    </tr>\n",
       "  </tbody>\n",
       "</table>\n",
       "</div>"
      ],
      "text/plain": [
       "  Item_Identifier  Item_Weight Item_Fat_Content  Item_Visibility  \\\n",
       "0           FDA15         9.30          Low Fat         0.016047   \n",
       "1           DRC01         5.92          Regular         0.019278   \n",
       "2           FDN15        17.50          Low Fat         0.016760   \n",
       "3           FDX07        19.20          Regular         0.000000   \n",
       "4           NCD19         8.93          Low Fat         0.000000   \n",
       "\n",
       "               Item_Type  Item_MRP Outlet_Identifier  \\\n",
       "0                  Dairy  249.8092            OUT049   \n",
       "1            Soft Drinks   48.2692            OUT018   \n",
       "2                   Meat  141.6180            OUT049   \n",
       "3  Fruits and Vegetables  182.0950            OUT010   \n",
       "4              Household   53.8614            OUT013   \n",
       "\n",
       "   Outlet_Establishment_Year Outlet_Size Outlet_Location_Type  \\\n",
       "0                       1999      Medium               Tier 1   \n",
       "1                       2009      Medium               Tier 3   \n",
       "2                       1999      Medium               Tier 1   \n",
       "3                       1998         NaN               Tier 3   \n",
       "4                       1987        High               Tier 3   \n",
       "\n",
       "         Outlet_Type  Item_Outlet_Sales  \n",
       "0  Supermarket Type1          3735.1380  \n",
       "1  Supermarket Type2           443.4228  \n",
       "2  Supermarket Type1          2097.2700  \n",
       "3      Grocery Store           732.3800  \n",
       "4  Supermarket Type1           994.7052  "
      ]
     },
     "execution_count": 7,
     "metadata": {},
     "output_type": "execute_result"
    }
   ],
   "source": [
    "bigmart.head()"
   ]
  },
  {
   "cell_type": "code",
   "execution_count": 13,
   "id": "7237f2cf-cbec-434c-b8a1-2c4e9077fbc8",
   "metadata": {},
   "outputs": [
    {
     "data": {
      "text/html": [
       "<div>\n",
       "<style scoped>\n",
       "    .dataframe tbody tr th:only-of-type {\n",
       "        vertical-align: middle;\n",
       "    }\n",
       "\n",
       "    .dataframe tbody tr th {\n",
       "        vertical-align: top;\n",
       "    }\n",
       "\n",
       "    .dataframe thead th {\n",
       "        text-align: right;\n",
       "    }\n",
       "</style>\n",
       "<table border=\"1\" class=\"dataframe\">\n",
       "  <thead>\n",
       "    <tr style=\"text-align: right;\">\n",
       "      <th></th>\n",
       "      <th>Item_Identifier</th>\n",
       "      <th>Item_Weight</th>\n",
       "      <th>Item_Fat_Content</th>\n",
       "      <th>Item_Visibility</th>\n",
       "      <th>Item_Type</th>\n",
       "      <th>Item_MRP</th>\n",
       "      <th>Outlet_Identifier</th>\n",
       "      <th>Outlet_Establishment_Year</th>\n",
       "      <th>Outlet_Size</th>\n",
       "      <th>Outlet_Location_Type</th>\n",
       "      <th>Outlet_Type</th>\n",
       "      <th>Item_Outlet_Sales</th>\n",
       "    </tr>\n",
       "  </thead>\n",
       "  <tbody>\n",
       "    <tr>\n",
       "      <th>8518</th>\n",
       "      <td>FDF22</td>\n",
       "      <td>6.865</td>\n",
       "      <td>Low Fat</td>\n",
       "      <td>0.056783</td>\n",
       "      <td>Snack Foods</td>\n",
       "      <td>214.5218</td>\n",
       "      <td>OUT013</td>\n",
       "      <td>1987</td>\n",
       "      <td>High</td>\n",
       "      <td>Tier 3</td>\n",
       "      <td>Supermarket Type1</td>\n",
       "      <td>2778.3834</td>\n",
       "    </tr>\n",
       "    <tr>\n",
       "      <th>8519</th>\n",
       "      <td>FDS36</td>\n",
       "      <td>8.380</td>\n",
       "      <td>Regular</td>\n",
       "      <td>0.046982</td>\n",
       "      <td>Baking Goods</td>\n",
       "      <td>108.1570</td>\n",
       "      <td>OUT045</td>\n",
       "      <td>2002</td>\n",
       "      <td>NaN</td>\n",
       "      <td>Tier 2</td>\n",
       "      <td>Supermarket Type1</td>\n",
       "      <td>549.2850</td>\n",
       "    </tr>\n",
       "    <tr>\n",
       "      <th>8520</th>\n",
       "      <td>NCJ29</td>\n",
       "      <td>10.600</td>\n",
       "      <td>Low Fat</td>\n",
       "      <td>0.035186</td>\n",
       "      <td>Health and Hygiene</td>\n",
       "      <td>85.1224</td>\n",
       "      <td>OUT035</td>\n",
       "      <td>2004</td>\n",
       "      <td>Small</td>\n",
       "      <td>Tier 2</td>\n",
       "      <td>Supermarket Type1</td>\n",
       "      <td>1193.1136</td>\n",
       "    </tr>\n",
       "    <tr>\n",
       "      <th>8521</th>\n",
       "      <td>FDN46</td>\n",
       "      <td>7.210</td>\n",
       "      <td>Regular</td>\n",
       "      <td>0.145221</td>\n",
       "      <td>Snack Foods</td>\n",
       "      <td>103.1332</td>\n",
       "      <td>OUT018</td>\n",
       "      <td>2009</td>\n",
       "      <td>Medium</td>\n",
       "      <td>Tier 3</td>\n",
       "      <td>Supermarket Type2</td>\n",
       "      <td>1845.5976</td>\n",
       "    </tr>\n",
       "    <tr>\n",
       "      <th>8522</th>\n",
       "      <td>DRG01</td>\n",
       "      <td>14.800</td>\n",
       "      <td>Low Fat</td>\n",
       "      <td>0.044878</td>\n",
       "      <td>Soft Drinks</td>\n",
       "      <td>75.4670</td>\n",
       "      <td>OUT046</td>\n",
       "      <td>1997</td>\n",
       "      <td>Small</td>\n",
       "      <td>Tier 1</td>\n",
       "      <td>Supermarket Type1</td>\n",
       "      <td>765.6700</td>\n",
       "    </tr>\n",
       "  </tbody>\n",
       "</table>\n",
       "</div>"
      ],
      "text/plain": [
       "     Item_Identifier  Item_Weight Item_Fat_Content  Item_Visibility  \\\n",
       "8518           FDF22        6.865          Low Fat         0.056783   \n",
       "8519           FDS36        8.380          Regular         0.046982   \n",
       "8520           NCJ29       10.600          Low Fat         0.035186   \n",
       "8521           FDN46        7.210          Regular         0.145221   \n",
       "8522           DRG01       14.800          Low Fat         0.044878   \n",
       "\n",
       "               Item_Type  Item_MRP Outlet_Identifier  \\\n",
       "8518         Snack Foods  214.5218            OUT013   \n",
       "8519        Baking Goods  108.1570            OUT045   \n",
       "8520  Health and Hygiene   85.1224            OUT035   \n",
       "8521         Snack Foods  103.1332            OUT018   \n",
       "8522         Soft Drinks   75.4670            OUT046   \n",
       "\n",
       "      Outlet_Establishment_Year Outlet_Size Outlet_Location_Type  \\\n",
       "8518                       1987        High               Tier 3   \n",
       "8519                       2002         NaN               Tier 2   \n",
       "8520                       2004       Small               Tier 2   \n",
       "8521                       2009      Medium               Tier 3   \n",
       "8522                       1997       Small               Tier 1   \n",
       "\n",
       "            Outlet_Type  Item_Outlet_Sales  \n",
       "8518  Supermarket Type1          2778.3834  \n",
       "8519  Supermarket Type1           549.2850  \n",
       "8520  Supermarket Type1          1193.1136  \n",
       "8521  Supermarket Type2          1845.5976  \n",
       "8522  Supermarket Type1           765.6700  "
      ]
     },
     "execution_count": 13,
     "metadata": {},
     "output_type": "execute_result"
    }
   ],
   "source": [
    "bigmart.tail()"
   ]
  },
  {
   "cell_type": "code",
   "execution_count": 15,
   "id": "fc5a7c48-d0d9-44c9-9283-357ed474de3b",
   "metadata": {},
   "outputs": [
    {
     "data": {
      "text/plain": [
       "Item_Identifier                 0\n",
       "Item_Weight                  1463\n",
       "Item_Fat_Content                0\n",
       "Item_Visibility                 0\n",
       "Item_Type                       0\n",
       "Item_MRP                        0\n",
       "Outlet_Identifier               0\n",
       "Outlet_Establishment_Year       0\n",
       "Outlet_Size                  2410\n",
       "Outlet_Location_Type            0\n",
       "Outlet_Type                     0\n",
       "Item_Outlet_Sales               0\n",
       "dtype: int64"
      ]
     },
     "execution_count": 15,
     "metadata": {},
     "output_type": "execute_result"
    }
   ],
   "source": [
    "bigmart.isnull().sum()"
   ]
  },
  {
   "cell_type": "code",
   "execution_count": 17,
   "id": "fea89011-031c-47bb-afdf-a99d1f9aae90",
   "metadata": {},
   "outputs": [
    {
     "data": {
      "text/plain": [
       "Index(['Item_Identifier', 'Item_Weight', 'Item_Fat_Content', 'Item_Visibility',\n",
       "       'Item_Type', 'Item_MRP', 'Outlet_Identifier',\n",
       "       'Outlet_Establishment_Year', 'Outlet_Size', 'Outlet_Location_Type',\n",
       "       'Outlet_Type', 'Item_Outlet_Sales'],\n",
       "      dtype='object')"
      ]
     },
     "execution_count": 17,
     "metadata": {},
     "output_type": "execute_result"
    }
   ],
   "source": [
    "bigmart.columns"
   ]
  },
  {
   "cell_type": "code",
   "execution_count": 19,
   "id": "8ade095c-c4e1-4a50-bd31-71f886efba5e",
   "metadata": {},
   "outputs": [],
   "source": [
    "Item_Weight = bigmart.groupby('Item_Identifier')['Item_Weight'].agg(lambda x: x.mode()[0] if not x.mode().empty else None)\n"
   ]
  },
  {
   "cell_type": "code",
   "execution_count": 21,
   "id": "1d9daf93-fd89-47a3-84d3-61440d802a5d",
   "metadata": {},
   "outputs": [],
   "source": [
    "# Define a function to replace null society values based on area_type\n",
    "def replace_null_item_weight(row):\n",
    "    if pd.isnull(row['Item_Weight']):\n",
    "        return Item_Weight[row['Item_Identifier']]\n",
    "    else:\n",
    "        return row['Item_Weight']\n",
    "\n",
    "# Apply the function to replace null society values\n",
    "bigmart['Item_Weight'] = bigmart.apply(replace_null_item_weight, axis=1)"
   ]
  },
  {
   "cell_type": "code",
   "execution_count": 23,
   "id": "c1b32d3f-a0fd-473b-bb8a-240bccbe7756",
   "metadata": {},
   "outputs": [
    {
     "data": {
      "text/plain": [
       "Item_Identifier                 0\n",
       "Item_Weight                     4\n",
       "Item_Fat_Content                0\n",
       "Item_Visibility                 0\n",
       "Item_Type                       0\n",
       "Item_MRP                        0\n",
       "Outlet_Identifier               0\n",
       "Outlet_Establishment_Year       0\n",
       "Outlet_Size                  2410\n",
       "Outlet_Location_Type            0\n",
       "Outlet_Type                     0\n",
       "Item_Outlet_Sales               0\n",
       "dtype: int64"
      ]
     },
     "execution_count": 23,
     "metadata": {},
     "output_type": "execute_result"
    }
   ],
   "source": [
    "bigmart.isnull().sum()"
   ]
  },
  {
   "cell_type": "code",
   "execution_count": 25,
   "id": "8431f8ce-d96b-4f71-bde2-bfac58ffc118",
   "metadata": {},
   "outputs": [
    {
     "data": {
      "text/plain": [
       "array(['Medium', nan, 'High', 'Small'], dtype=object)"
      ]
     },
     "execution_count": 25,
     "metadata": {},
     "output_type": "execute_result"
    }
   ],
   "source": [
    "\n",
    "bigmart[\"Outlet_Size\"].unique()"
   ]
  },
  {
   "cell_type": "code",
   "execution_count": 27,
   "id": "eef1da9b-9496-4ecb-b484-4b47b21f03c2",
   "metadata": {},
   "outputs": [
    {
     "data": {
      "text/plain": [
       "Outlet_Size\n",
       "High       932\n",
       "Small     2388\n",
       "Medium    2793\n",
       "Name: count, dtype: int64"
      ]
     },
     "execution_count": 27,
     "metadata": {},
     "output_type": "execute_result"
    }
   ],
   "source": [
    "bigmart[\"Outlet_Size\"].value_counts(ascending=True)"
   ]
  },
  {
   "cell_type": "code",
   "execution_count": 29,
   "id": "5940d7ca-8402-4c7b-b94e-776ec6f20d27",
   "metadata": {},
   "outputs": [
    {
     "data": {
      "text/plain": [
       "array(['OUT049', 'OUT018', 'OUT010', 'OUT013', 'OUT027', 'OUT045',\n",
       "       'OUT017', 'OUT046', 'OUT035', 'OUT019'], dtype=object)"
      ]
     },
     "execution_count": 29,
     "metadata": {},
     "output_type": "execute_result"
    }
   ],
   "source": [
    "bigmart[\"Outlet_Identifier\"]. unique()"
   ]
  },
  {
   "cell_type": "code",
   "execution_count": 31,
   "id": "b4851d99-ad5a-4bfd-ad90-13f40635378b",
   "metadata": {},
   "outputs": [],
   "source": [
    "outlet = bigmart.drop_duplicates(subset=['Outlet_Identifier', 'Outlet_Size'])"
   ]
  },
  {
   "cell_type": "code",
   "execution_count": 33,
   "id": "53213c1f-e709-4bf3-91ad-18bf05ca2267",
   "metadata": {},
   "outputs": [
    {
     "data": {
      "text/html": [
       "<div>\n",
       "<style scoped>\n",
       "    .dataframe tbody tr th:only-of-type {\n",
       "        vertical-align: middle;\n",
       "    }\n",
       "\n",
       "    .dataframe tbody tr th {\n",
       "        vertical-align: top;\n",
       "    }\n",
       "\n",
       "    .dataframe thead th {\n",
       "        text-align: right;\n",
       "    }\n",
       "</style>\n",
       "<table border=\"1\" class=\"dataframe\">\n",
       "  <thead>\n",
       "    <tr style=\"text-align: right;\">\n",
       "      <th></th>\n",
       "      <th>Item_Identifier</th>\n",
       "      <th>Item_Weight</th>\n",
       "      <th>Item_Fat_Content</th>\n",
       "      <th>Item_Visibility</th>\n",
       "      <th>Item_Type</th>\n",
       "      <th>Item_MRP</th>\n",
       "      <th>Outlet_Identifier</th>\n",
       "      <th>Outlet_Establishment_Year</th>\n",
       "      <th>Outlet_Size</th>\n",
       "      <th>Outlet_Location_Type</th>\n",
       "      <th>Outlet_Type</th>\n",
       "      <th>Item_Outlet_Sales</th>\n",
       "    </tr>\n",
       "  </thead>\n",
       "  <tbody>\n",
       "    <tr>\n",
       "      <th>0</th>\n",
       "      <td>FDA15</td>\n",
       "      <td>9.30</td>\n",
       "      <td>Low Fat</td>\n",
       "      <td>0.016047</td>\n",
       "      <td>Dairy</td>\n",
       "      <td>249.8092</td>\n",
       "      <td>OUT049</td>\n",
       "      <td>1999</td>\n",
       "      <td>Medium</td>\n",
       "      <td>Tier 1</td>\n",
       "      <td>Supermarket Type1</td>\n",
       "      <td>3735.1380</td>\n",
       "    </tr>\n",
       "    <tr>\n",
       "      <th>1</th>\n",
       "      <td>DRC01</td>\n",
       "      <td>5.92</td>\n",
       "      <td>Regular</td>\n",
       "      <td>0.019278</td>\n",
       "      <td>Soft Drinks</td>\n",
       "      <td>48.2692</td>\n",
       "      <td>OUT018</td>\n",
       "      <td>2009</td>\n",
       "      <td>Medium</td>\n",
       "      <td>Tier 3</td>\n",
       "      <td>Supermarket Type2</td>\n",
       "      <td>443.4228</td>\n",
       "    </tr>\n",
       "    <tr>\n",
       "      <th>3</th>\n",
       "      <td>FDX07</td>\n",
       "      <td>19.20</td>\n",
       "      <td>Regular</td>\n",
       "      <td>0.000000</td>\n",
       "      <td>Fruits and Vegetables</td>\n",
       "      <td>182.0950</td>\n",
       "      <td>OUT010</td>\n",
       "      <td>1998</td>\n",
       "      <td>NaN</td>\n",
       "      <td>Tier 3</td>\n",
       "      <td>Grocery Store</td>\n",
       "      <td>732.3800</td>\n",
       "    </tr>\n",
       "    <tr>\n",
       "      <th>4</th>\n",
       "      <td>NCD19</td>\n",
       "      <td>8.93</td>\n",
       "      <td>Low Fat</td>\n",
       "      <td>0.000000</td>\n",
       "      <td>Household</td>\n",
       "      <td>53.8614</td>\n",
       "      <td>OUT013</td>\n",
       "      <td>1987</td>\n",
       "      <td>High</td>\n",
       "      <td>Tier 3</td>\n",
       "      <td>Supermarket Type1</td>\n",
       "      <td>994.7052</td>\n",
       "    </tr>\n",
       "    <tr>\n",
       "      <th>7</th>\n",
       "      <td>FDP10</td>\n",
       "      <td>19.00</td>\n",
       "      <td>Low Fat</td>\n",
       "      <td>0.127470</td>\n",
       "      <td>Snack Foods</td>\n",
       "      <td>107.7622</td>\n",
       "      <td>OUT027</td>\n",
       "      <td>1985</td>\n",
       "      <td>Medium</td>\n",
       "      <td>Tier 3</td>\n",
       "      <td>Supermarket Type3</td>\n",
       "      <td>4022.7636</td>\n",
       "    </tr>\n",
       "    <tr>\n",
       "      <th>8</th>\n",
       "      <td>FDH17</td>\n",
       "      <td>16.20</td>\n",
       "      <td>Regular</td>\n",
       "      <td>0.016687</td>\n",
       "      <td>Frozen Foods</td>\n",
       "      <td>96.9726</td>\n",
       "      <td>OUT045</td>\n",
       "      <td>2002</td>\n",
       "      <td>NaN</td>\n",
       "      <td>Tier 2</td>\n",
       "      <td>Supermarket Type1</td>\n",
       "      <td>1076.5986</td>\n",
       "    </tr>\n",
       "    <tr>\n",
       "      <th>9</th>\n",
       "      <td>FDU28</td>\n",
       "      <td>19.20</td>\n",
       "      <td>Regular</td>\n",
       "      <td>0.094450</td>\n",
       "      <td>Frozen Foods</td>\n",
       "      <td>187.8214</td>\n",
       "      <td>OUT017</td>\n",
       "      <td>2007</td>\n",
       "      <td>NaN</td>\n",
       "      <td>Tier 2</td>\n",
       "      <td>Supermarket Type1</td>\n",
       "      <td>4710.5350</td>\n",
       "    </tr>\n",
       "    <tr>\n",
       "      <th>11</th>\n",
       "      <td>FDA03</td>\n",
       "      <td>18.50</td>\n",
       "      <td>Regular</td>\n",
       "      <td>0.045464</td>\n",
       "      <td>Dairy</td>\n",
       "      <td>144.1102</td>\n",
       "      <td>OUT046</td>\n",
       "      <td>1997</td>\n",
       "      <td>Small</td>\n",
       "      <td>Tier 1</td>\n",
       "      <td>Supermarket Type1</td>\n",
       "      <td>2187.1530</td>\n",
       "    </tr>\n",
       "    <tr>\n",
       "      <th>19</th>\n",
       "      <td>FDU02</td>\n",
       "      <td>13.35</td>\n",
       "      <td>Low Fat</td>\n",
       "      <td>0.102492</td>\n",
       "      <td>Dairy</td>\n",
       "      <td>230.5352</td>\n",
       "      <td>OUT035</td>\n",
       "      <td>2004</td>\n",
       "      <td>Small</td>\n",
       "      <td>Tier 2</td>\n",
       "      <td>Supermarket Type1</td>\n",
       "      <td>2748.4224</td>\n",
       "    </tr>\n",
       "    <tr>\n",
       "      <th>23</th>\n",
       "      <td>FDC37</td>\n",
       "      <td>15.50</td>\n",
       "      <td>Low Fat</td>\n",
       "      <td>0.057557</td>\n",
       "      <td>Baking Goods</td>\n",
       "      <td>107.6938</td>\n",
       "      <td>OUT019</td>\n",
       "      <td>1985</td>\n",
       "      <td>Small</td>\n",
       "      <td>Tier 1</td>\n",
       "      <td>Grocery Store</td>\n",
       "      <td>214.3876</td>\n",
       "    </tr>\n",
       "  </tbody>\n",
       "</table>\n",
       "</div>"
      ],
      "text/plain": [
       "   Item_Identifier  Item_Weight Item_Fat_Content  Item_Visibility  \\\n",
       "0            FDA15         9.30          Low Fat         0.016047   \n",
       "1            DRC01         5.92          Regular         0.019278   \n",
       "3            FDX07        19.20          Regular         0.000000   \n",
       "4            NCD19         8.93          Low Fat         0.000000   \n",
       "7            FDP10        19.00          Low Fat         0.127470   \n",
       "8            FDH17        16.20          Regular         0.016687   \n",
       "9            FDU28        19.20          Regular         0.094450   \n",
       "11           FDA03        18.50          Regular         0.045464   \n",
       "19           FDU02        13.35          Low Fat         0.102492   \n",
       "23           FDC37        15.50          Low Fat         0.057557   \n",
       "\n",
       "                Item_Type  Item_MRP Outlet_Identifier  \\\n",
       "0                   Dairy  249.8092            OUT049   \n",
       "1             Soft Drinks   48.2692            OUT018   \n",
       "3   Fruits and Vegetables  182.0950            OUT010   \n",
       "4               Household   53.8614            OUT013   \n",
       "7             Snack Foods  107.7622            OUT027   \n",
       "8            Frozen Foods   96.9726            OUT045   \n",
       "9            Frozen Foods  187.8214            OUT017   \n",
       "11                  Dairy  144.1102            OUT046   \n",
       "19                  Dairy  230.5352            OUT035   \n",
       "23           Baking Goods  107.6938            OUT019   \n",
       "\n",
       "    Outlet_Establishment_Year Outlet_Size Outlet_Location_Type  \\\n",
       "0                        1999      Medium               Tier 1   \n",
       "1                        2009      Medium               Tier 3   \n",
       "3                        1998         NaN               Tier 3   \n",
       "4                        1987        High               Tier 3   \n",
       "7                        1985      Medium               Tier 3   \n",
       "8                        2002         NaN               Tier 2   \n",
       "9                        2007         NaN               Tier 2   \n",
       "11                       1997       Small               Tier 1   \n",
       "19                       2004       Small               Tier 2   \n",
       "23                       1985       Small               Tier 1   \n",
       "\n",
       "          Outlet_Type  Item_Outlet_Sales  \n",
       "0   Supermarket Type1          3735.1380  \n",
       "1   Supermarket Type2           443.4228  \n",
       "3       Grocery Store           732.3800  \n",
       "4   Supermarket Type1           994.7052  \n",
       "7   Supermarket Type3          4022.7636  \n",
       "8   Supermarket Type1          1076.5986  \n",
       "9   Supermarket Type1          4710.5350  \n",
       "11  Supermarket Type1          2187.1530  \n",
       "19  Supermarket Type1          2748.4224  \n",
       "23      Grocery Store           214.3876  "
      ]
     },
     "execution_count": 33,
     "metadata": {},
     "output_type": "execute_result"
    }
   ],
   "source": [
    "outlet"
   ]
  },
  {
   "cell_type": "code",
   "execution_count": 39,
   "id": "47881952-3d75-4a04-b484-3f4f58b89b79",
   "metadata": {},
   "outputs": [],
   "source": [
    "conditions = [\n",
    "    (bigmart[\"Outlet_Identifier\"] == \"OUT049\"),\n",
    "    (bigmart[\"Outlet_Identifier\"] == \"OUT018\"),\n",
    "    (bigmart[\"Outlet_Identifier\"] == \"OUT010\"),#assumption based on outlet type & identifier\n",
    "    (bigmart[\"Outlet_Identifier\"] == \"OUT013\"),\n",
    "    (bigmart[\"Outlet_Identifier\"] == \"OUT027\"),\n",
    "    (bigmart[\"Outlet_Identifier\"] == \"OUT045\"),#assumption based on outlet type & identifier\n",
    "    (bigmart[\"Outlet_Identifier\"] == \"OUT017\"),#assumption based on outlet type & identifier\n",
    "    (bigmart[\"Outlet_Identifier\"] == \"OUT046\"),\n",
    "    (bigmart[\"Outlet_Identifier\"] == \"OUT035\"),\n",
    "    (bigmart[\"Outlet_Identifier\"] == \"OUT019\")\n",
    "]\n"
   ]
  },
  {
   "cell_type": "code",
   "execution_count": 41,
   "id": "f4475058-5cb3-41fe-a92d-30d2ae63aed4",
   "metadata": {},
   "outputs": [],
   "source": [
    "# Corresponding 'Outlet_Size' values for each condition\n",
    "values = [\"Medium\", \"Medium\", \"Small\", \"High\", \"Medium\", \"High\", \"High\", \"Small\", \"Small\", \"Small\"]\n",
    "\n",
    "# Apply the conditions to create 'Outlet_Size'\n",
    "bigmart['Outlet_Size'] = np.select(conditions, values, default='Unknown')"
   ]
  },
  {
   "cell_type": "code",
   "execution_count": 43,
   "id": "73143404-25bd-462c-9e85-980d248da848",
   "metadata": {},
   "outputs": [
    {
     "data": {
      "text/plain": [
       "Item_Identifier              0\n",
       "Item_Weight                  4\n",
       "Item_Fat_Content             0\n",
       "Item_Visibility              0\n",
       "Item_Type                    0\n",
       "Item_MRP                     0\n",
       "Outlet_Identifier            0\n",
       "Outlet_Establishment_Year    0\n",
       "Outlet_Size                  0\n",
       "Outlet_Location_Type         0\n",
       "Outlet_Type                  0\n",
       "Item_Outlet_Sales            0\n",
       "dtype: int64"
      ]
     },
     "execution_count": 43,
     "metadata": {},
     "output_type": "execute_result"
    }
   ],
   "source": [
    "bigmart.isnull().sum()"
   ]
  },
  {
   "cell_type": "code",
   "execution_count": 45,
   "id": "fd34d928-1fe0-44c8-92e5-35298505dc6e",
   "metadata": {},
   "outputs": [],
   "source": [
    "bigmart.dropna(inplace=True)"
   ]
  },
  {
   "cell_type": "code",
   "execution_count": 47,
   "id": "4f02c9f7-e3a7-487b-ac81-b55d2857fb69",
   "metadata": {},
   "outputs": [
    {
     "data": {
      "text/plain": [
       "Item_Identifier              0\n",
       "Item_Weight                  0\n",
       "Item_Fat_Content             0\n",
       "Item_Visibility              0\n",
       "Item_Type                    0\n",
       "Item_MRP                     0\n",
       "Outlet_Identifier            0\n",
       "Outlet_Establishment_Year    0\n",
       "Outlet_Size                  0\n",
       "Outlet_Location_Type         0\n",
       "Outlet_Type                  0\n",
       "Item_Outlet_Sales            0\n",
       "dtype: int64"
      ]
     },
     "execution_count": 47,
     "metadata": {},
     "output_type": "execute_result"
    }
   ],
   "source": [
    "\n",
    "bigmart.isnull().sum()"
   ]
  },
  {
   "cell_type": "code",
   "execution_count": 49,
   "id": "cb7a14bc-3f42-4e59-b59b-10a60a874206",
   "metadata": {},
   "outputs": [
    {
     "data": {
      "text/plain": [
       "Item_Identifier               object\n",
       "Item_Weight                  float64\n",
       "Item_Fat_Content              object\n",
       "Item_Visibility              float64\n",
       "Item_Type                     object\n",
       "Item_MRP                     float64\n",
       "Outlet_Identifier             object\n",
       "Outlet_Establishment_Year      int64\n",
       "Outlet_Size                   object\n",
       "Outlet_Location_Type          object\n",
       "Outlet_Type                   object\n",
       "Item_Outlet_Sales            float64\n",
       "dtype: object"
      ]
     },
     "execution_count": 49,
     "metadata": {},
     "output_type": "execute_result"
    }
   ],
   "source": [
    "\n",
    "bigmart.dtypes"
   ]
  },
  {
   "cell_type": "code",
   "execution_count": 55,
   "id": "062261d6-9f14-48d1-9ab5-ee344c10cd89",
   "metadata": {},
   "outputs": [
    {
     "data": {
      "text/plain": [
       "count      8519\n",
       "unique     1555\n",
       "top       FDG33\n",
       "freq         10\n",
       "Name: Item_Identifier, dtype: object"
      ]
     },
     "execution_count": 55,
     "metadata": {},
     "output_type": "execute_result"
    }
   ],
   "source": [
    "\n",
    "bigmart[\"Item_Identifier\"].describe()"
   ]
  },
  {
   "cell_type": "code",
   "execution_count": 57,
   "id": "41d35e73-2b3e-4131-8ed8-45dd9a52a620",
   "metadata": {},
   "outputs": [
    {
     "data": {
      "text/plain": [
       "count    8519.000000\n",
       "mean       12.875420\n",
       "std         4.646098\n",
       "min         4.555000\n",
       "25%         8.785000\n",
       "50%        12.650000\n",
       "75%        16.850000\n",
       "max        21.350000\n",
       "Name: Item_Weight, dtype: float64"
      ]
     },
     "execution_count": 57,
     "metadata": {},
     "output_type": "execute_result"
    }
   ],
   "source": [
    "bigmart[\"Item_Weight\"].describe()"
   ]
  },
  {
   "cell_type": "code",
   "execution_count": 59,
   "id": "aefe26a7-7e9a-4644-a315-1724bbc377d1",
   "metadata": {},
   "outputs": [
    {
     "data": {
      "text/plain": [
       "count        8519\n",
       "unique          5\n",
       "top       Low Fat\n",
       "freq         5088\n",
       "Name: Item_Fat_Content, dtype: object"
      ]
     },
     "execution_count": 59,
     "metadata": {},
     "output_type": "execute_result"
    }
   ],
   "source": [
    "\n",
    "bigmart[\"Item_Fat_Content\"].describe()"
   ]
  },
  {
   "cell_type": "code",
   "execution_count": 61,
   "id": "390b9d93-b805-4945-9d26-29a04c5a6a8f",
   "metadata": {},
   "outputs": [
    {
     "data": {
      "text/plain": [
       "array(['Low Fat', 'Regular', 'low fat', 'LF', 'reg'], dtype=object)"
      ]
     },
     "execution_count": 61,
     "metadata": {},
     "output_type": "execute_result"
    }
   ],
   "source": [
    "bigmart[\"Item_Fat_Content\"].unique()\n"
   ]
  },
  {
   "cell_type": "code",
   "execution_count": 65,
   "id": "05f52737-836d-416c-987a-c7cc3c048810",
   "metadata": {},
   "outputs": [],
   "source": [
    "bigmart[\"Item_Fat_Content\"].replace({'low fat': 'Low Fat'},inplace=True)\n",
    "bigmart[\"Item_Fat_Content\"].replace({'LF': 'Low Fat'},inplace=True)\n",
    "bigmart[\"Item_Fat_Content\"].replace({'reg': 'Regular'},inplace=True)"
   ]
  },
  {
   "cell_type": "code",
   "execution_count": 67,
   "id": "f213a8c7-012a-4255-bfe5-04a49b95b38d",
   "metadata": {},
   "outputs": [
    {
     "data": {
      "text/plain": [
       "array(['Low Fat', 'Regular'], dtype=object)"
      ]
     },
     "execution_count": 67,
     "metadata": {},
     "output_type": "execute_result"
    }
   ],
   "source": [
    "\n",
    "bigmart[\"Item_Fat_Content\"].unique()"
   ]
  },
  {
   "cell_type": "code",
   "execution_count": 69,
   "id": "72bc5e84-2038-4d3a-9586-02105215c1ce",
   "metadata": {},
   "outputs": [
    {
     "data": {
      "text/plain": [
       "Item_Fat_Content\n",
       "Regular    3003\n",
       "Low Fat    5516\n",
       "Name: count, dtype: int64"
      ]
     },
     "execution_count": 69,
     "metadata": {},
     "output_type": "execute_result"
    }
   ],
   "source": [
    "bigmart[\"Item_Fat_Content\"].value_counts(ascending=True)"
   ]
  },
  {
   "cell_type": "code",
   "execution_count": 71,
   "id": "5ffc6470-1900-4b7e-a405-c519536555b3",
   "metadata": {},
   "outputs": [
    {
     "data": {
      "text/plain": [
       "count    8519.000000\n",
       "mean        0.066112\n",
       "std         0.051586\n",
       "min         0.000000\n",
       "25%         0.026983\n",
       "50%         0.053925\n",
       "75%         0.094558\n",
       "max         0.328391\n",
       "Name: Item_Visibility, dtype: float64"
      ]
     },
     "execution_count": 71,
     "metadata": {},
     "output_type": "execute_result"
    }
   ],
   "source": [
    "bigmart[\"Item_Visibility\"].describe()"
   ]
  },
  {
   "cell_type": "code",
   "execution_count": 73,
   "id": "9b137002-95fc-45bb-9906-2da0a9cd9f91",
   "metadata": {},
   "outputs": [
    {
     "data": {
      "text/plain": [
       "count                      8519\n",
       "unique                       16\n",
       "top       Fruits and Vegetables\n",
       "freq                       1232\n",
       "Name: Item_Type, dtype: object"
      ]
     },
     "execution_count": 73,
     "metadata": {},
     "output_type": "execute_result"
    }
   ],
   "source": [
    "bigmart[\"Item_Type\"].describe()"
   ]
  },
  {
   "cell_type": "code",
   "execution_count": 75,
   "id": "03aedbf4-bbf3-464a-9cf6-5f4e1ff53c39",
   "metadata": {},
   "outputs": [
    {
     "data": {
      "text/plain": [
       "array(['Dairy', 'Soft Drinks', 'Meat', 'Fruits and Vegetables',\n",
       "       'Household', 'Baking Goods', 'Snack Foods', 'Frozen Foods',\n",
       "       'Breakfast', 'Health and Hygiene', 'Hard Drinks', 'Canned',\n",
       "       'Breads', 'Starchy Foods', 'Others', 'Seafood'], dtype=object)"
      ]
     },
     "execution_count": 75,
     "metadata": {},
     "output_type": "execute_result"
    }
   ],
   "source": [
    "bigmart[\"Item_Type\"].unique()\n"
   ]
  },
  {
   "cell_type": "code",
   "execution_count": 77,
   "id": "97111e15-793f-415a-972d-eb22cb79659a",
   "metadata": {},
   "outputs": [
    {
     "data": {
      "text/plain": [
       "Item_Type\n",
       "Seafood                    64\n",
       "Breakfast                 110\n",
       "Starchy Foods             148\n",
       "Others                    169\n",
       "Hard Drinks               214\n",
       "Breads                    251\n",
       "Meat                      425\n",
       "Soft Drinks               445\n",
       "Health and Hygiene        520\n",
       "Baking Goods              647\n",
       "Canned                    649\n",
       "Dairy                     681\n",
       "Frozen Foods              855\n",
       "Household                 910\n",
       "Snack Foods              1199\n",
       "Fruits and Vegetables    1232\n",
       "Name: count, dtype: int64"
      ]
     },
     "execution_count": 77,
     "metadata": {},
     "output_type": "execute_result"
    }
   ],
   "source": [
    "bigmart[\"Item_Type\"].value_counts(ascending=True)"
   ]
  },
  {
   "cell_type": "code",
   "execution_count": 79,
   "id": "8209c321-a977-4a96-91fd-ff45fbf4b7ba",
   "metadata": {},
   "outputs": [
    {
     "data": {
      "text/plain": [
       "count    8519.000000\n",
       "mean      141.010019\n",
       "std        62.283594\n",
       "min        31.290000\n",
       "25%        93.844900\n",
       "50%       143.047000\n",
       "75%       185.676600\n",
       "max       266.888400\n",
       "Name: Item_MRP, dtype: float64"
      ]
     },
     "execution_count": 79,
     "metadata": {},
     "output_type": "execute_result"
    }
   ],
   "source": [
    "bigmart[\"Item_MRP\"].describe()"
   ]
  },
  {
   "cell_type": "code",
   "execution_count": 81,
   "id": "dce6ceba-1a60-4bd5-b09b-9a799eef14ab",
   "metadata": {},
   "outputs": [
    {
     "data": {
      "text/plain": [
       "count       8519\n",
       "unique        10\n",
       "top       OUT013\n",
       "freq         932\n",
       "Name: Outlet_Identifier, dtype: object"
      ]
     },
     "execution_count": 81,
     "metadata": {},
     "output_type": "execute_result"
    }
   ],
   "source": [
    "bigmart[\"Outlet_Identifier\"].describe()"
   ]
  },
  {
   "cell_type": "code",
   "execution_count": 83,
   "id": "e43c7b9d-03ef-4077-8f6b-bf8758bc0b2c",
   "metadata": {},
   "outputs": [
    {
     "data": {
      "text/plain": [
       "array(['OUT049', 'OUT018', 'OUT010', 'OUT013', 'OUT027', 'OUT045',\n",
       "       'OUT017', 'OUT046', 'OUT035', 'OUT019'], dtype=object)"
      ]
     },
     "execution_count": 83,
     "metadata": {},
     "output_type": "execute_result"
    }
   ],
   "source": [
    "bigmart[\"Outlet_Identifier\"].unique()"
   ]
  },
  {
   "cell_type": "code",
   "execution_count": 85,
   "id": "c6e1dcc0-3628-4ff5-a6c7-2fb277865db8",
   "metadata": {},
   "outputs": [
    {
     "data": {
      "text/plain": [
       "Outlet_Identifier\n",
       "OUT019    527\n",
       "OUT010    555\n",
       "OUT017    926\n",
       "OUT018    928\n",
       "OUT045    929\n",
       "OUT049    930\n",
       "OUT046    930\n",
       "OUT035    930\n",
       "OUT013    932\n",
       "OUT027    932\n",
       "Name: count, dtype: int64"
      ]
     },
     "execution_count": 85,
     "metadata": {},
     "output_type": "execute_result"
    }
   ],
   "source": [
    "\n",
    "bigmart[\"Outlet_Identifier\"].value_counts(ascending=True)"
   ]
  },
  {
   "cell_type": "code",
   "execution_count": 87,
   "id": "f07a8da6-c7b7-4194-86cd-3b654b0017f8",
   "metadata": {},
   "outputs": [
    {
     "data": {
      "text/plain": [
       "count    8519.000000\n",
       "mean     1997.837892\n",
       "std         8.369105\n",
       "min      1985.000000\n",
       "25%      1987.000000\n",
       "50%      1999.000000\n",
       "75%      2004.000000\n",
       "max      2009.000000\n",
       "Name: Outlet_Establishment_Year, dtype: float64"
      ]
     },
     "execution_count": 87,
     "metadata": {},
     "output_type": "execute_result"
    }
   ],
   "source": [
    "bigmart[\"Outlet_Establishment_Year\"].describe()"
   ]
  },
  {
   "cell_type": "code",
   "execution_count": 89,
   "id": "4f21a29f-d4c0-4164-853b-7ce3a9431494",
   "metadata": {},
   "outputs": [
    {
     "data": {
      "text/html": [
       "<div>\n",
       "<style scoped>\n",
       "    .dataframe tbody tr th:only-of-type {\n",
       "        vertical-align: middle;\n",
       "    }\n",
       "\n",
       "    .dataframe tbody tr th {\n",
       "        vertical-align: top;\n",
       "    }\n",
       "\n",
       "    .dataframe thead th {\n",
       "        text-align: right;\n",
       "    }\n",
       "</style>\n",
       "<table border=\"1\" class=\"dataframe\">\n",
       "  <thead>\n",
       "    <tr style=\"text-align: right;\">\n",
       "      <th></th>\n",
       "      <th>Item_Identifier</th>\n",
       "      <th>Item_Weight</th>\n",
       "      <th>Item_Fat_Content</th>\n",
       "      <th>Item_Visibility</th>\n",
       "      <th>Item_Type</th>\n",
       "      <th>Item_MRP</th>\n",
       "      <th>Outlet_Identifier</th>\n",
       "      <th>Outlet_Establishment_Year</th>\n",
       "      <th>Outlet_Size</th>\n",
       "      <th>Outlet_Location_Type</th>\n",
       "      <th>Outlet_Type</th>\n",
       "      <th>Item_Outlet_Sales</th>\n",
       "    </tr>\n",
       "  </thead>\n",
       "  <tbody>\n",
       "    <tr>\n",
       "      <th>0</th>\n",
       "      <td>FDA15</td>\n",
       "      <td>9.300</td>\n",
       "      <td>Low Fat</td>\n",
       "      <td>0.016047</td>\n",
       "      <td>Dairy</td>\n",
       "      <td>249.8092</td>\n",
       "      <td>OUT049</td>\n",
       "      <td>1999</td>\n",
       "      <td>Medium</td>\n",
       "      <td>Tier 1</td>\n",
       "      <td>Supermarket Type1</td>\n",
       "      <td>3735.1380</td>\n",
       "    </tr>\n",
       "    <tr>\n",
       "      <th>1</th>\n",
       "      <td>DRC01</td>\n",
       "      <td>5.920</td>\n",
       "      <td>Regular</td>\n",
       "      <td>0.019278</td>\n",
       "      <td>Soft Drinks</td>\n",
       "      <td>48.2692</td>\n",
       "      <td>OUT018</td>\n",
       "      <td>2009</td>\n",
       "      <td>Medium</td>\n",
       "      <td>Tier 3</td>\n",
       "      <td>Supermarket Type2</td>\n",
       "      <td>443.4228</td>\n",
       "    </tr>\n",
       "    <tr>\n",
       "      <th>2</th>\n",
       "      <td>FDN15</td>\n",
       "      <td>17.500</td>\n",
       "      <td>Low Fat</td>\n",
       "      <td>0.016760</td>\n",
       "      <td>Meat</td>\n",
       "      <td>141.6180</td>\n",
       "      <td>OUT049</td>\n",
       "      <td>1999</td>\n",
       "      <td>Medium</td>\n",
       "      <td>Tier 1</td>\n",
       "      <td>Supermarket Type1</td>\n",
       "      <td>2097.2700</td>\n",
       "    </tr>\n",
       "    <tr>\n",
       "      <th>3</th>\n",
       "      <td>FDX07</td>\n",
       "      <td>19.200</td>\n",
       "      <td>Regular</td>\n",
       "      <td>0.000000</td>\n",
       "      <td>Fruits and Vegetables</td>\n",
       "      <td>182.0950</td>\n",
       "      <td>OUT010</td>\n",
       "      <td>1998</td>\n",
       "      <td>Small</td>\n",
       "      <td>Tier 3</td>\n",
       "      <td>Grocery Store</td>\n",
       "      <td>732.3800</td>\n",
       "    </tr>\n",
       "    <tr>\n",
       "      <th>4</th>\n",
       "      <td>NCD19</td>\n",
       "      <td>8.930</td>\n",
       "      <td>Low Fat</td>\n",
       "      <td>0.000000</td>\n",
       "      <td>Household</td>\n",
       "      <td>53.8614</td>\n",
       "      <td>OUT013</td>\n",
       "      <td>1987</td>\n",
       "      <td>High</td>\n",
       "      <td>Tier 3</td>\n",
       "      <td>Supermarket Type1</td>\n",
       "      <td>994.7052</td>\n",
       "    </tr>\n",
       "    <tr>\n",
       "      <th>...</th>\n",
       "      <td>...</td>\n",
       "      <td>...</td>\n",
       "      <td>...</td>\n",
       "      <td>...</td>\n",
       "      <td>...</td>\n",
       "      <td>...</td>\n",
       "      <td>...</td>\n",
       "      <td>...</td>\n",
       "      <td>...</td>\n",
       "      <td>...</td>\n",
       "      <td>...</td>\n",
       "      <td>...</td>\n",
       "    </tr>\n",
       "    <tr>\n",
       "      <th>8518</th>\n",
       "      <td>FDF22</td>\n",
       "      <td>6.865</td>\n",
       "      <td>Low Fat</td>\n",
       "      <td>0.056783</td>\n",
       "      <td>Snack Foods</td>\n",
       "      <td>214.5218</td>\n",
       "      <td>OUT013</td>\n",
       "      <td>1987</td>\n",
       "      <td>High</td>\n",
       "      <td>Tier 3</td>\n",
       "      <td>Supermarket Type1</td>\n",
       "      <td>2778.3834</td>\n",
       "    </tr>\n",
       "    <tr>\n",
       "      <th>8519</th>\n",
       "      <td>FDS36</td>\n",
       "      <td>8.380</td>\n",
       "      <td>Regular</td>\n",
       "      <td>0.046982</td>\n",
       "      <td>Baking Goods</td>\n",
       "      <td>108.1570</td>\n",
       "      <td>OUT045</td>\n",
       "      <td>2002</td>\n",
       "      <td>High</td>\n",
       "      <td>Tier 2</td>\n",
       "      <td>Supermarket Type1</td>\n",
       "      <td>549.2850</td>\n",
       "    </tr>\n",
       "    <tr>\n",
       "      <th>8520</th>\n",
       "      <td>NCJ29</td>\n",
       "      <td>10.600</td>\n",
       "      <td>Low Fat</td>\n",
       "      <td>0.035186</td>\n",
       "      <td>Health and Hygiene</td>\n",
       "      <td>85.1224</td>\n",
       "      <td>OUT035</td>\n",
       "      <td>2004</td>\n",
       "      <td>Small</td>\n",
       "      <td>Tier 2</td>\n",
       "      <td>Supermarket Type1</td>\n",
       "      <td>1193.1136</td>\n",
       "    </tr>\n",
       "    <tr>\n",
       "      <th>8521</th>\n",
       "      <td>FDN46</td>\n",
       "      <td>7.210</td>\n",
       "      <td>Regular</td>\n",
       "      <td>0.145221</td>\n",
       "      <td>Snack Foods</td>\n",
       "      <td>103.1332</td>\n",
       "      <td>OUT018</td>\n",
       "      <td>2009</td>\n",
       "      <td>Medium</td>\n",
       "      <td>Tier 3</td>\n",
       "      <td>Supermarket Type2</td>\n",
       "      <td>1845.5976</td>\n",
       "    </tr>\n",
       "    <tr>\n",
       "      <th>8522</th>\n",
       "      <td>DRG01</td>\n",
       "      <td>14.800</td>\n",
       "      <td>Low Fat</td>\n",
       "      <td>0.044878</td>\n",
       "      <td>Soft Drinks</td>\n",
       "      <td>75.4670</td>\n",
       "      <td>OUT046</td>\n",
       "      <td>1997</td>\n",
       "      <td>Small</td>\n",
       "      <td>Tier 1</td>\n",
       "      <td>Supermarket Type1</td>\n",
       "      <td>765.6700</td>\n",
       "    </tr>\n",
       "  </tbody>\n",
       "</table>\n",
       "<p>8519 rows × 12 columns</p>\n",
       "</div>"
      ],
      "text/plain": [
       "     Item_Identifier  Item_Weight Item_Fat_Content  Item_Visibility  \\\n",
       "0              FDA15        9.300          Low Fat         0.016047   \n",
       "1              DRC01        5.920          Regular         0.019278   \n",
       "2              FDN15       17.500          Low Fat         0.016760   \n",
       "3              FDX07       19.200          Regular         0.000000   \n",
       "4              NCD19        8.930          Low Fat         0.000000   \n",
       "...              ...          ...              ...              ...   \n",
       "8518           FDF22        6.865          Low Fat         0.056783   \n",
       "8519           FDS36        8.380          Regular         0.046982   \n",
       "8520           NCJ29       10.600          Low Fat         0.035186   \n",
       "8521           FDN46        7.210          Regular         0.145221   \n",
       "8522           DRG01       14.800          Low Fat         0.044878   \n",
       "\n",
       "                  Item_Type  Item_MRP Outlet_Identifier  \\\n",
       "0                     Dairy  249.8092            OUT049   \n",
       "1               Soft Drinks   48.2692            OUT018   \n",
       "2                      Meat  141.6180            OUT049   \n",
       "3     Fruits and Vegetables  182.0950            OUT010   \n",
       "4                 Household   53.8614            OUT013   \n",
       "...                     ...       ...               ...   \n",
       "8518            Snack Foods  214.5218            OUT013   \n",
       "8519           Baking Goods  108.1570            OUT045   \n",
       "8520     Health and Hygiene   85.1224            OUT035   \n",
       "8521            Snack Foods  103.1332            OUT018   \n",
       "8522            Soft Drinks   75.4670            OUT046   \n",
       "\n",
       "     Outlet_Establishment_Year Outlet_Size Outlet_Location_Type  \\\n",
       "0                         1999      Medium               Tier 1   \n",
       "1                         2009      Medium               Tier 3   \n",
       "2                         1999      Medium               Tier 1   \n",
       "3                         1998       Small               Tier 3   \n",
       "4                         1987        High               Tier 3   \n",
       "...                        ...         ...                  ...   \n",
       "8518                      1987        High               Tier 3   \n",
       "8519                      2002        High               Tier 2   \n",
       "8520                      2004       Small               Tier 2   \n",
       "8521                      2009      Medium               Tier 3   \n",
       "8522                      1997       Small               Tier 1   \n",
       "\n",
       "            Outlet_Type  Item_Outlet_Sales  \n",
       "0     Supermarket Type1          3735.1380  \n",
       "1     Supermarket Type2           443.4228  \n",
       "2     Supermarket Type1          2097.2700  \n",
       "3         Grocery Store           732.3800  \n",
       "4     Supermarket Type1           994.7052  \n",
       "...                 ...                ...  \n",
       "8518  Supermarket Type1          2778.3834  \n",
       "8519  Supermarket Type1           549.2850  \n",
       "8520  Supermarket Type1          1193.1136  \n",
       "8521  Supermarket Type2          1845.5976  \n",
       "8522  Supermarket Type1           765.6700  \n",
       "\n",
       "[8519 rows x 12 columns]"
      ]
     },
     "execution_count": 89,
     "metadata": {},
     "output_type": "execute_result"
    }
   ],
   "source": [
    "bigmart[\"Outlet_Establishment_Year\"] = bigmart[\"Outlet_Establishment_Year\"].astype(str)\n",
    "bigmart"
   ]
  },
  {
   "cell_type": "code",
   "execution_count": 91,
   "id": "46b3f0b5-6047-4aa2-b7fb-c6f7b0df5224",
   "metadata": {},
   "outputs": [
    {
     "data": {
      "text/plain": [
       "count     8519\n",
       "unique       9\n",
       "top       1985\n",
       "freq      1459\n",
       "Name: Outlet_Establishment_Year, dtype: object"
      ]
     },
     "execution_count": 91,
     "metadata": {},
     "output_type": "execute_result"
    }
   ],
   "source": [
    "\n",
    "bigmart[\"Outlet_Establishment_Year\"].describe()"
   ]
  },
  {
   "cell_type": "code",
   "execution_count": 93,
   "id": "1eefaefe-6854-443b-b583-14f006f4b235",
   "metadata": {},
   "outputs": [
    {
     "data": {
      "text/plain": [
       "Item_Identifier               object\n",
       "Item_Weight                  float64\n",
       "Item_Fat_Content              object\n",
       "Item_Visibility              float64\n",
       "Item_Type                     object\n",
       "Item_MRP                     float64\n",
       "Outlet_Identifier             object\n",
       "Outlet_Establishment_Year     object\n",
       "Outlet_Size                   object\n",
       "Outlet_Location_Type          object\n",
       "Outlet_Type                   object\n",
       "Item_Outlet_Sales            float64\n",
       "dtype: object"
      ]
     },
     "execution_count": 93,
     "metadata": {},
     "output_type": "execute_result"
    }
   ],
   "source": [
    "\n",
    "bigmart.dtypes"
   ]
  },
  {
   "cell_type": "code",
   "execution_count": 95,
   "id": "da7a13f8-90e3-49dd-a485-2fb124bce7bc",
   "metadata": {},
   "outputs": [
    {
     "data": {
      "text/plain": [
       "Outlet_Establishment_Year\n",
       "1998     555\n",
       "2007     926\n",
       "2009     928\n",
       "2002     929\n",
       "1999     930\n",
       "1997     930\n",
       "2004     930\n",
       "1987     932\n",
       "1985    1459\n",
       "Name: count, dtype: int64"
      ]
     },
     "execution_count": 95,
     "metadata": {},
     "output_type": "execute_result"
    }
   ],
   "source": [
    "\n",
    "bigmart[\"Outlet_Establishment_Year\"].value_counts(ascending=True)"
   ]
  },
  {
   "cell_type": "code",
   "execution_count": 97,
   "id": "6ad7094c-5411-4554-bab7-e056263ff28f",
   "metadata": {},
   "outputs": [
    {
     "data": {
      "text/plain": [
       "count      8519\n",
       "unique        3\n",
       "top       Small\n",
       "freq       2942\n",
       "Name: Outlet_Size, dtype: object"
      ]
     },
     "execution_count": 97,
     "metadata": {},
     "output_type": "execute_result"
    }
   ],
   "source": [
    "bigmart[\"Outlet_Size\"].describe()"
   ]
  },
  {
   "cell_type": "code",
   "execution_count": 99,
   "id": "9a8fe80f-ef4d-48d7-bc65-f4bdd6ad1899",
   "metadata": {},
   "outputs": [
    {
     "data": {
      "text/plain": [
       "array(['Medium', 'Small', 'High'], dtype=object)"
      ]
     },
     "execution_count": 99,
     "metadata": {},
     "output_type": "execute_result"
    }
   ],
   "source": [
    "\n",
    "bigmart[\"Outlet_Size\"].unique()"
   ]
  },
  {
   "cell_type": "code",
   "execution_count": 101,
   "id": "b850bcf7-db5a-407d-9ebd-900184518811",
   "metadata": {},
   "outputs": [
    {
     "data": {
      "text/plain": [
       "Outlet_Size\n",
       "High      2787\n",
       "Medium    2790\n",
       "Small     2942\n",
       "Name: count, dtype: int64"
      ]
     },
     "execution_count": 101,
     "metadata": {},
     "output_type": "execute_result"
    }
   ],
   "source": [
    "bigmart[\"Outlet_Size\"].value_counts(ascending=True)"
   ]
  },
  {
   "cell_type": "code",
   "execution_count": 103,
   "id": "4f8ac2aa-b56f-48e4-bdb8-f4952bb6ccd2",
   "metadata": {},
   "outputs": [
    {
     "data": {
      "text/plain": [
       "count       8519\n",
       "unique         3\n",
       "top       Tier 3\n",
       "freq        3347\n",
       "Name: Outlet_Location_Type, dtype: object"
      ]
     },
     "execution_count": 103,
     "metadata": {},
     "output_type": "execute_result"
    }
   ],
   "source": [
    "bigmart[\"Outlet_Location_Type\"].describe()"
   ]
  },
  {
   "cell_type": "code",
   "execution_count": 105,
   "id": "70bff38b-3520-496f-a3da-16f9cc29494e",
   "metadata": {},
   "outputs": [
    {
     "data": {
      "text/plain": [
       "array(['Tier 1', 'Tier 3', 'Tier 2'], dtype=object)"
      ]
     },
     "execution_count": 105,
     "metadata": {},
     "output_type": "execute_result"
    }
   ],
   "source": [
    "bigmart[\"Outlet_Location_Type\"].unique()"
   ]
  },
  {
   "cell_type": "code",
   "execution_count": 107,
   "id": "f33b2d7d-41bd-410e-82a5-e867fa3b5e13",
   "metadata": {},
   "outputs": [
    {
     "data": {
      "text/plain": [
       "Outlet_Location_Type\n",
       "Tier 1    2387\n",
       "Tier 2    2785\n",
       "Tier 3    3347\n",
       "Name: count, dtype: int64"
      ]
     },
     "execution_count": 107,
     "metadata": {},
     "output_type": "execute_result"
    }
   ],
   "source": [
    "bigmart[\"Outlet_Location_Type\"].value_counts(ascending=True)"
   ]
  },
  {
   "cell_type": "code",
   "execution_count": 109,
   "id": "044f13ea-18da-41b9-8c8f-e9464a10a07b",
   "metadata": {},
   "outputs": [
    {
     "data": {
      "text/plain": [
       "count                  8519\n",
       "unique                    4\n",
       "top       Supermarket Type1\n",
       "freq                   5577\n",
       "Name: Outlet_Type, dtype: object"
      ]
     },
     "execution_count": 109,
     "metadata": {},
     "output_type": "execute_result"
    }
   ],
   "source": [
    "bigmart[\"Outlet_Type\"].describe()"
   ]
  },
  {
   "cell_type": "code",
   "execution_count": 111,
   "id": "1aff9f54-9f27-4159-8684-53fad8c29ec2",
   "metadata": {},
   "outputs": [
    {
     "data": {
      "text/plain": [
       "array(['Supermarket Type1', 'Supermarket Type2', 'Grocery Store',\n",
       "       'Supermarket Type3'], dtype=object)"
      ]
     },
     "execution_count": 111,
     "metadata": {},
     "output_type": "execute_result"
    }
   ],
   "source": [
    "bigmart[\"Outlet_Type\"].unique()\n"
   ]
  },
  {
   "cell_type": "code",
   "execution_count": 113,
   "id": "420ed329-20d0-463c-97eb-3843c285b143",
   "metadata": {},
   "outputs": [
    {
     "data": {
      "text/plain": [
       "Outlet_Type\n",
       "Supermarket Type2     928\n",
       "Supermarket Type3     932\n",
       "Grocery Store        1082\n",
       "Supermarket Type1    5577\n",
       "Name: count, dtype: int64"
      ]
     },
     "execution_count": 113,
     "metadata": {},
     "output_type": "execute_result"
    }
   ],
   "source": [
    "bigmart[\"Outlet_Type\"].value_counts(ascending=True)\n"
   ]
  },
  {
   "cell_type": "code",
   "execution_count": 115,
   "id": "034cb562-016d-47b7-93c3-cc32b587ab4a",
   "metadata": {},
   "outputs": [],
   "source": [
    "from sklearn.preprocessing import LabelEncoder\n",
    "encoder = LabelEncoder()"
   ]
  },
  {
   "cell_type": "code",
   "execution_count": 117,
   "id": "15751b5f-537f-44eb-8878-e37a4d4cd4a9",
   "metadata": {},
   "outputs": [],
   "source": [
    "bigmart['Item_Identifier'] = encoder.fit_transform(bigmart['Item_Identifier'])\n",
    "\n",
    "bigmart['Item_Fat_Content'] = encoder.fit_transform(bigmart['Item_Fat_Content'])\n",
    "\n",
    "bigmart['Item_Type'] = encoder.fit_transform(bigmart['Item_Type'])\n",
    "\n",
    "bigmart['Outlet_Identifier'] = encoder.fit_transform(bigmart['Outlet_Identifier'])\n",
    "\n",
    "bigmart['Outlet_Size'] = encoder.fit_transform(bigmart['Outlet_Size'])\n",
    "\n",
    "bigmart['Outlet_Location_Type'] = encoder.fit_transform(bigmart['Outlet_Location_Type'])\n",
    "\n",
    "bigmart['Outlet_Type'] = encoder.fit_transform(bigmart['Outlet_Type'])"
   ]
  },
  {
   "cell_type": "code",
   "execution_count": 121,
   "id": "d406ea22-07e5-45ae-8c05-ec5837da6642",
   "metadata": {},
   "outputs": [
    {
     "data": {
      "text/html": [
       "<div>\n",
       "<style scoped>\n",
       "    .dataframe tbody tr th:only-of-type {\n",
       "        vertical-align: middle;\n",
       "    }\n",
       "\n",
       "    .dataframe tbody tr th {\n",
       "        vertical-align: top;\n",
       "    }\n",
       "\n",
       "    .dataframe thead th {\n",
       "        text-align: right;\n",
       "    }\n",
       "</style>\n",
       "<table border=\"1\" class=\"dataframe\">\n",
       "  <thead>\n",
       "    <tr style=\"text-align: right;\">\n",
       "      <th></th>\n",
       "      <th>Item_Identifier</th>\n",
       "      <th>Item_Weight</th>\n",
       "      <th>Item_Fat_Content</th>\n",
       "      <th>Item_Visibility</th>\n",
       "      <th>Item_Type</th>\n",
       "      <th>Item_MRP</th>\n",
       "      <th>Outlet_Identifier</th>\n",
       "      <th>Outlet_Establishment_Year</th>\n",
       "      <th>Outlet_Size</th>\n",
       "      <th>Outlet_Location_Type</th>\n",
       "      <th>Outlet_Type</th>\n",
       "      <th>Item_Outlet_Sales</th>\n",
       "    </tr>\n",
       "  </thead>\n",
       "  <tbody>\n",
       "    <tr>\n",
       "      <th>0</th>\n",
       "      <td>156</td>\n",
       "      <td>9.30</td>\n",
       "      <td>0</td>\n",
       "      <td>0.016047</td>\n",
       "      <td>4</td>\n",
       "      <td>249.8092</td>\n",
       "      <td>9</td>\n",
       "      <td>1999</td>\n",
       "      <td>1</td>\n",
       "      <td>0</td>\n",
       "      <td>1</td>\n",
       "      <td>3735.1380</td>\n",
       "    </tr>\n",
       "    <tr>\n",
       "      <th>1</th>\n",
       "      <td>8</td>\n",
       "      <td>5.92</td>\n",
       "      <td>1</td>\n",
       "      <td>0.019278</td>\n",
       "      <td>14</td>\n",
       "      <td>48.2692</td>\n",
       "      <td>3</td>\n",
       "      <td>2009</td>\n",
       "      <td>1</td>\n",
       "      <td>2</td>\n",
       "      <td>2</td>\n",
       "      <td>443.4228</td>\n",
       "    </tr>\n",
       "    <tr>\n",
       "      <th>2</th>\n",
       "      <td>660</td>\n",
       "      <td>17.50</td>\n",
       "      <td>0</td>\n",
       "      <td>0.016760</td>\n",
       "      <td>10</td>\n",
       "      <td>141.6180</td>\n",
       "      <td>9</td>\n",
       "      <td>1999</td>\n",
       "      <td>1</td>\n",
       "      <td>0</td>\n",
       "      <td>1</td>\n",
       "      <td>2097.2700</td>\n",
       "    </tr>\n",
       "    <tr>\n",
       "      <th>3</th>\n",
       "      <td>1117</td>\n",
       "      <td>19.20</td>\n",
       "      <td>1</td>\n",
       "      <td>0.000000</td>\n",
       "      <td>6</td>\n",
       "      <td>182.0950</td>\n",
       "      <td>0</td>\n",
       "      <td>1998</td>\n",
       "      <td>2</td>\n",
       "      <td>2</td>\n",
       "      <td>0</td>\n",
       "      <td>732.3800</td>\n",
       "    </tr>\n",
       "    <tr>\n",
       "      <th>4</th>\n",
       "      <td>1293</td>\n",
       "      <td>8.93</td>\n",
       "      <td>0</td>\n",
       "      <td>0.000000</td>\n",
       "      <td>9</td>\n",
       "      <td>53.8614</td>\n",
       "      <td>1</td>\n",
       "      <td>1987</td>\n",
       "      <td>0</td>\n",
       "      <td>2</td>\n",
       "      <td>1</td>\n",
       "      <td>994.7052</td>\n",
       "    </tr>\n",
       "  </tbody>\n",
       "</table>\n",
       "</div>"
      ],
      "text/plain": [
       "   Item_Identifier  Item_Weight  Item_Fat_Content  Item_Visibility  Item_Type  \\\n",
       "0              156         9.30                 0         0.016047          4   \n",
       "1                8         5.92                 1         0.019278         14   \n",
       "2              660        17.50                 0         0.016760         10   \n",
       "3             1117        19.20                 1         0.000000          6   \n",
       "4             1293         8.93                 0         0.000000          9   \n",
       "\n",
       "   Item_MRP  Outlet_Identifier Outlet_Establishment_Year  Outlet_Size  \\\n",
       "0  249.8092                  9                      1999            1   \n",
       "1   48.2692                  3                      2009            1   \n",
       "2  141.6180                  9                      1999            1   \n",
       "3  182.0950                  0                      1998            2   \n",
       "4   53.8614                  1                      1987            0   \n",
       "\n",
       "   Outlet_Location_Type  Outlet_Type  Item_Outlet_Sales  \n",
       "0                     0            1          3735.1380  \n",
       "1                     2            2           443.4228  \n",
       "2                     0            1          2097.2700  \n",
       "3                     2            0           732.3800  \n",
       "4                     2            1           994.7052  "
      ]
     },
     "execution_count": 121,
     "metadata": {},
     "output_type": "execute_result"
    }
   ],
   "source": [
    "bigmart.head()"
   ]
  },
  {
   "cell_type": "code",
   "execution_count": 123,
   "id": "1a6f1ea8-eb86-4602-a499-f56351c78892",
   "metadata": {},
   "outputs": [],
   "source": [
    "from sklearn.preprocessing import MinMaxScaler"
   ]
  },
  {
   "cell_type": "code",
   "execution_count": 125,
   "id": "fa4b12cf-198b-489e-a75c-4d984fca0a46",
   "metadata": {},
   "outputs": [],
   "source": [
    "scaler = MinMaxScaler()\n"
   ]
  },
  {
   "cell_type": "code",
   "execution_count": 127,
   "id": "ccf6e1aa-8eb5-446f-9353-9bb77af6164a",
   "metadata": {},
   "outputs": [],
   "source": [
    "bigmart_scaled = pd.DataFrame(scaler.fit_transform(bigmart), columns=bigmart.columns)"
   ]
  },
  {
   "cell_type": "code",
   "execution_count": 129,
   "id": "efa80a69-5c7b-41ff-b12e-3ca01f7a3845",
   "metadata": {},
   "outputs": [
    {
     "data": {
      "text/html": [
       "<div>\n",
       "<style scoped>\n",
       "    .dataframe tbody tr th:only-of-type {\n",
       "        vertical-align: middle;\n",
       "    }\n",
       "\n",
       "    .dataframe tbody tr th {\n",
       "        vertical-align: top;\n",
       "    }\n",
       "\n",
       "    .dataframe thead th {\n",
       "        text-align: right;\n",
       "    }\n",
       "</style>\n",
       "<table border=\"1\" class=\"dataframe\">\n",
       "  <thead>\n",
       "    <tr style=\"text-align: right;\">\n",
       "      <th></th>\n",
       "      <th>Item_Identifier</th>\n",
       "      <th>Item_Weight</th>\n",
       "      <th>Item_Fat_Content</th>\n",
       "      <th>Item_Visibility</th>\n",
       "      <th>Item_Type</th>\n",
       "      <th>Item_MRP</th>\n",
       "      <th>Outlet_Identifier</th>\n",
       "      <th>Outlet_Establishment_Year</th>\n",
       "      <th>Outlet_Size</th>\n",
       "      <th>Outlet_Location_Type</th>\n",
       "      <th>Outlet_Type</th>\n",
       "      <th>Item_Outlet_Sales</th>\n",
       "    </tr>\n",
       "  </thead>\n",
       "  <tbody>\n",
       "    <tr>\n",
       "      <th>0</th>\n",
       "      <td>0.100386</td>\n",
       "      <td>0.282525</td>\n",
       "      <td>0.0</td>\n",
       "      <td>0.048866</td>\n",
       "      <td>0.266667</td>\n",
       "      <td>0.927507</td>\n",
       "      <td>1.000000</td>\n",
       "      <td>0.583333</td>\n",
       "      <td>0.5</td>\n",
       "      <td>0.0</td>\n",
       "      <td>0.333333</td>\n",
       "      <td>0.283587</td>\n",
       "    </tr>\n",
       "    <tr>\n",
       "      <th>1</th>\n",
       "      <td>0.005148</td>\n",
       "      <td>0.081274</td>\n",
       "      <td>1.0</td>\n",
       "      <td>0.058705</td>\n",
       "      <td>0.933333</td>\n",
       "      <td>0.072068</td>\n",
       "      <td>0.333333</td>\n",
       "      <td>1.000000</td>\n",
       "      <td>0.5</td>\n",
       "      <td>1.0</td>\n",
       "      <td>0.666667</td>\n",
       "      <td>0.031419</td>\n",
       "    </tr>\n",
       "    <tr>\n",
       "      <th>2</th>\n",
       "      <td>0.424710</td>\n",
       "      <td>0.770765</td>\n",
       "      <td>0.0</td>\n",
       "      <td>0.051037</td>\n",
       "      <td>0.666667</td>\n",
       "      <td>0.468288</td>\n",
       "      <td>1.000000</td>\n",
       "      <td>0.583333</td>\n",
       "      <td>0.5</td>\n",
       "      <td>0.0</td>\n",
       "      <td>0.333333</td>\n",
       "      <td>0.158115</td>\n",
       "    </tr>\n",
       "    <tr>\n",
       "      <th>3</th>\n",
       "      <td>0.718790</td>\n",
       "      <td>0.871986</td>\n",
       "      <td>1.0</td>\n",
       "      <td>0.000000</td>\n",
       "      <td>0.400000</td>\n",
       "      <td>0.640093</td>\n",
       "      <td>0.000000</td>\n",
       "      <td>0.541667</td>\n",
       "      <td>1.0</td>\n",
       "      <td>1.0</td>\n",
       "      <td>0.000000</td>\n",
       "      <td>0.053555</td>\n",
       "    </tr>\n",
       "    <tr>\n",
       "      <th>4</th>\n",
       "      <td>0.832046</td>\n",
       "      <td>0.260494</td>\n",
       "      <td>0.0</td>\n",
       "      <td>0.000000</td>\n",
       "      <td>0.600000</td>\n",
       "      <td>0.095805</td>\n",
       "      <td>0.111111</td>\n",
       "      <td>0.083333</td>\n",
       "      <td>0.0</td>\n",
       "      <td>1.0</td>\n",
       "      <td>0.333333</td>\n",
       "      <td>0.073651</td>\n",
       "    </tr>\n",
       "  </tbody>\n",
       "</table>\n",
       "</div>"
      ],
      "text/plain": [
       "   Item_Identifier  Item_Weight  Item_Fat_Content  Item_Visibility  Item_Type  \\\n",
       "0         0.100386     0.282525               0.0         0.048866   0.266667   \n",
       "1         0.005148     0.081274               1.0         0.058705   0.933333   \n",
       "2         0.424710     0.770765               0.0         0.051037   0.666667   \n",
       "3         0.718790     0.871986               1.0         0.000000   0.400000   \n",
       "4         0.832046     0.260494               0.0         0.000000   0.600000   \n",
       "\n",
       "   Item_MRP  Outlet_Identifier  Outlet_Establishment_Year  Outlet_Size  \\\n",
       "0  0.927507           1.000000                   0.583333          0.5   \n",
       "1  0.072068           0.333333                   1.000000          0.5   \n",
       "2  0.468288           1.000000                   0.583333          0.5   \n",
       "3  0.640093           0.000000                   0.541667          1.0   \n",
       "4  0.095805           0.111111                   0.083333          0.0   \n",
       "\n",
       "   Outlet_Location_Type  Outlet_Type  Item_Outlet_Sales  \n",
       "0                   0.0     0.333333           0.283587  \n",
       "1                   1.0     0.666667           0.031419  \n",
       "2                   0.0     0.333333           0.158115  \n",
       "3                   1.0     0.000000           0.053555  \n",
       "4                   1.0     0.333333           0.073651  "
      ]
     },
     "execution_count": 129,
     "metadata": {},
     "output_type": "execute_result"
    }
   ],
   "source": [
    "bigmart_scaled.head()"
   ]
  },
  {
   "cell_type": "code",
   "execution_count": 131,
   "id": "b231f5bd-37d4-47b3-b1aa-e1e98c6a8c08",
   "metadata": {},
   "outputs": [],
   "source": [
    "target_column = \"Item_Outlet_Sales\""
   ]
  },
  {
   "cell_type": "code",
   "execution_count": 133,
   "id": "fc30b603-feac-4bb7-b022-e2a1652b9935",
   "metadata": {},
   "outputs": [],
   "source": [
    "x = bigmart_scaled.drop(columns=[target_column])\n",
    "y = bigmart_scaled[target_column]"
   ]
  },
  {
   "cell_type": "code",
   "execution_count": 135,
   "id": "2cb0307c-5baa-44c3-b0fd-2fede8514452",
   "metadata": {},
   "outputs": [],
   "source": [
    "from sklearn.model_selection import train_test_split\n",
    "train_x,test_x,train_y,test_y=train_test_split(x,y,test_size=0.2,random_state=40)"
   ]
  },
  {
   "cell_type": "code",
   "execution_count": 149,
   "id": "860d8290-7eb4-4f9b-a318-d845402e4073",
   "metadata": {},
   "outputs": [
    {
     "name": "stdout",
     "output_type": "stream",
     "text": [
      "Collecting xgboost\n",
      "  Downloading xgboost-2.1.2-py3-none-win_amd64.whl.metadata (2.1 kB)\n",
      "Requirement already satisfied: numpy in c:\\users\\samyukthaelanchezhia\\anaconda3\\lib\\site-packages (from xgboost) (1.26.4)\n",
      "Requirement already satisfied: scipy in c:\\users\\samyukthaelanchezhia\\anaconda3\\lib\\site-packages (from xgboost) (1.13.1)\n",
      "Downloading xgboost-2.1.2-py3-none-win_amd64.whl (124.9 MB)\n",
      "   ---------------------------------------- 0.0/124.9 MB ? eta -:--:--\n",
      "   ---------------------------------------- 0.0/124.9 MB ? eta -:--:--\n",
      "   ---------------------------------------- 0.0/124.9 MB ? eta -:--:--\n",
      "   ---------------------------------------- 0.1/124.9 MB 544.7 kB/s eta 0:03:50\n",
      "   ---------------------------------------- 0.2/124.9 MB 893.0 kB/s eta 0:02:20\n",
      "   ---------------------------------------- 0.3/124.9 MB 1.1 MB/s eta 0:01:52\n",
      "   ---------------------------------------- 0.3/124.9 MB 1.3 MB/s eta 0:01:39\n",
      "   ---------------------------------------- 0.3/124.9 MB 1.1 MB/s eta 0:01:53\n",
      "   ---------------------------------------- 0.4/124.9 MB 1.3 MB/s eta 0:01:36\n",
      "   ---------------------------------------- 0.4/124.9 MB 1.3 MB/s eta 0:01:36\n",
      "   ---------------------------------------- 0.5/124.9 MB 1.3 MB/s eta 0:01:37\n",
      "   ---------------------------------------- 0.5/124.9 MB 1.3 MB/s eta 0:01:37\n",
      "   ---------------------------------------- 0.6/124.9 MB 1.1 MB/s eta 0:01:49\n",
      "   ---------------------------------------- 0.7/124.9 MB 1.3 MB/s eta 0:01:40\n",
      "   ---------------------------------------- 0.7/124.9 MB 1.3 MB/s eta 0:01:40\n",
      "   ---------------------------------------- 0.8/124.9 MB 1.2 MB/s eta 0:01:40\n",
      "   ---------------------------------------- 0.8/124.9 MB 1.2 MB/s eta 0:01:40\n",
      "   ---------------------------------------- 0.8/124.9 MB 1.1 MB/s eta 0:01:49\n",
      "   ---------------------------------------- 0.9/124.9 MB 1.3 MB/s eta 0:01:39\n",
      "   ---------------------------------------- 0.9/124.9 MB 1.3 MB/s eta 0:01:39\n",
      "   ---------------------------------------- 1.0/124.9 MB 1.3 MB/s eta 0:01:38\n",
      "   ---------------------------------------- 1.2/124.9 MB 1.3 MB/s eta 0:01:35\n",
      "   ---------------------------------------- 1.2/124.9 MB 1.3 MB/s eta 0:01:33\n",
      "   ---------------------------------------- 1.2/124.9 MB 1.3 MB/s eta 0:01:33\n",
      "   ---------------------------------------- 1.2/124.9 MB 1.2 MB/s eta 0:01:44\n",
      "   ---------------------------------------- 1.3/124.9 MB 1.3 MB/s eta 0:01:36\n",
      "   ---------------------------------------- 1.3/124.9 MB 1.3 MB/s eta 0:01:36\n",
      "   ---------------------------------------- 1.5/124.9 MB 1.3 MB/s eta 0:01:38\n",
      "   ---------------------------------------- 1.5/124.9 MB 1.3 MB/s eta 0:01:38\n",
      "    --------------------------------------- 1.6/124.9 MB 1.3 MB/s eta 0:01:38\n",
      "    --------------------------------------- 1.6/124.9 MB 1.3 MB/s eta 0:01:35\n",
      "    --------------------------------------- 1.7/124.9 MB 1.3 MB/s eta 0:01:37\n",
      "    --------------------------------------- 1.8/124.9 MB 1.3 MB/s eta 0:01:34\n",
      "    --------------------------------------- 1.9/124.9 MB 1.3 MB/s eta 0:01:35\n",
      "    --------------------------------------- 2.0/124.9 MB 1.4 MB/s eta 0:01:29\n",
      "    --------------------------------------- 2.0/124.9 MB 1.4 MB/s eta 0:01:29\n",
      "    --------------------------------------- 2.2/124.9 MB 1.4 MB/s eta 0:01:28\n",
      "    --------------------------------------- 2.2/124.9 MB 1.4 MB/s eta 0:01:28\n",
      "    --------------------------------------- 2.2/124.9 MB 1.4 MB/s eta 0:01:28\n",
      "    --------------------------------------- 2.4/124.9 MB 1.4 MB/s eta 0:01:26\n",
      "    --------------------------------------- 2.4/124.9 MB 1.4 MB/s eta 0:01:26\n",
      "    --------------------------------------- 2.5/124.9 MB 1.5 MB/s eta 0:01:25\n",
      "    --------------------------------------- 2.6/124.9 MB 1.5 MB/s eta 0:01:23\n",
      "    --------------------------------------- 2.8/124.9 MB 1.5 MB/s eta 0:01:22\n",
      "    --------------------------------------- 2.9/124.9 MB 1.6 MB/s eta 0:01:18\n",
      "   - -------------------------------------- 3.1/124.9 MB 1.6 MB/s eta 0:01:15\n",
      "   - -------------------------------------- 3.3/124.9 MB 1.7 MB/s eta 0:01:13\n",
      "   - -------------------------------------- 3.5/124.9 MB 1.7 MB/s eta 0:01:10\n",
      "   - -------------------------------------- 3.7/124.9 MB 1.8 MB/s eta 0:01:07\n",
      "   - -------------------------------------- 3.9/124.9 MB 1.8 MB/s eta 0:01:06\n",
      "   - -------------------------------------- 4.1/124.9 MB 1.9 MB/s eta 0:01:03\n",
      "   - -------------------------------------- 4.3/124.9 MB 2.0 MB/s eta 0:01:01\n",
      "   - -------------------------------------- 4.6/124.9 MB 2.1 MB/s eta 0:00:58\n",
      "   - -------------------------------------- 4.8/124.9 MB 2.1 MB/s eta 0:00:57\n",
      "   - -------------------------------------- 5.0/124.9 MB 2.2 MB/s eta 0:00:55\n",
      "   - -------------------------------------- 5.3/124.9 MB 2.3 MB/s eta 0:00:53\n",
      "   - -------------------------------------- 5.6/124.9 MB 2.3 MB/s eta 0:00:51\n",
      "   - -------------------------------------- 5.9/124.9 MB 2.4 MB/s eta 0:00:49\n",
      "   - -------------------------------------- 6.0/124.9 MB 2.5 MB/s eta 0:00:49\n",
      "   -- ------------------------------------- 6.4/124.9 MB 2.6 MB/s eta 0:00:47\n",
      "   -- ------------------------------------- 6.7/124.9 MB 2.6 MB/s eta 0:00:45\n",
      "   -- ------------------------------------- 7.0/124.9 MB 2.7 MB/s eta 0:00:44\n",
      "   -- ------------------------------------- 7.3/124.9 MB 2.8 MB/s eta 0:00:43\n",
      "   -- ------------------------------------- 7.6/124.9 MB 2.8 MB/s eta 0:00:42\n",
      "   -- ------------------------------------- 7.9/124.9 MB 2.9 MB/s eta 0:00:41\n",
      "   -- ------------------------------------- 8.3/124.9 MB 3.0 MB/s eta 0:00:40\n",
      "   -- ------------------------------------- 8.6/124.9 MB 3.0 MB/s eta 0:00:39\n",
      "   -- ------------------------------------- 8.9/124.9 MB 3.1 MB/s eta 0:00:38\n",
      "   -- ------------------------------------- 9.3/124.9 MB 3.2 MB/s eta 0:00:37\n",
      "   --- ------------------------------------ 9.6/124.9 MB 3.2 MB/s eta 0:00:36\n",
      "   --- ------------------------------------ 9.9/124.9 MB 3.3 MB/s eta 0:00:35\n",
      "   --- ------------------------------------ 10.2/124.9 MB 3.4 MB/s eta 0:00:35\n",
      "   --- ------------------------------------ 10.5/124.9 MB 3.7 MB/s eta 0:00:32\n",
      "   --- ------------------------------------ 10.9/124.9 MB 4.0 MB/s eta 0:00:29\n",
      "   --- ------------------------------------ 11.2/124.9 MB 4.3 MB/s eta 0:00:27\n",
      "   --- ------------------------------------ 11.6/124.9 MB 4.6 MB/s eta 0:00:25\n",
      "   --- ------------------------------------ 11.9/124.9 MB 5.2 MB/s eta 0:00:22\n",
      "   --- ------------------------------------ 12.2/124.9 MB 5.4 MB/s eta 0:00:21\n",
      "   ---- ----------------------------------- 12.5/124.9 MB 5.9 MB/s eta 0:00:20\n",
      "   ---- ----------------------------------- 12.9/124.9 MB 6.4 MB/s eta 0:00:18\n",
      "   ---- ----------------------------------- 13.2/124.9 MB 6.4 MB/s eta 0:00:18\n",
      "   ---- ----------------------------------- 13.5/124.9 MB 6.5 MB/s eta 0:00:18\n",
      "   ---- ----------------------------------- 13.8/124.9 MB 6.5 MB/s eta 0:00:17\n",
      "   ---- ----------------------------------- 14.2/124.9 MB 6.8 MB/s eta 0:00:17\n",
      "   ---- ----------------------------------- 14.6/124.9 MB 6.9 MB/s eta 0:00:17\n",
      "   ---- ----------------------------------- 14.8/124.9 MB 6.9 MB/s eta 0:00:16\n",
      "   ---- ----------------------------------- 15.2/124.9 MB 6.9 MB/s eta 0:00:16\n",
      "   ---- ----------------------------------- 15.5/124.9 MB 7.0 MB/s eta 0:00:16\n",
      "   ----- ---------------------------------- 15.8/124.9 MB 7.0 MB/s eta 0:00:16\n",
      "   ----- ---------------------------------- 16.2/124.9 MB 7.0 MB/s eta 0:00:16\n",
      "   ----- ---------------------------------- 16.5/124.9 MB 7.0 MB/s eta 0:00:16\n",
      "   ----- ---------------------------------- 16.8/124.9 MB 7.0 MB/s eta 0:00:16\n",
      "   ----- ---------------------------------- 17.2/124.9 MB 7.0 MB/s eta 0:00:16\n",
      "   ----- ---------------------------------- 17.5/124.9 MB 7.0 MB/s eta 0:00:16\n",
      "   ----- ---------------------------------- 17.8/124.9 MB 7.0 MB/s eta 0:00:16\n",
      "   ----- ---------------------------------- 18.2/124.9 MB 7.1 MB/s eta 0:00:16\n",
      "   ----- ---------------------------------- 18.5/124.9 MB 7.2 MB/s eta 0:00:15\n",
      "   ------ --------------------------------- 18.9/124.9 MB 7.1 MB/s eta 0:00:15\n",
      "   ------ --------------------------------- 19.2/124.9 MB 7.1 MB/s eta 0:00:15\n",
      "   ------ --------------------------------- 19.6/124.9 MB 7.1 MB/s eta 0:00:15\n",
      "   ------ --------------------------------- 19.9/124.9 MB 7.1 MB/s eta 0:00:15\n",
      "   ------ --------------------------------- 20.2/124.9 MB 7.2 MB/s eta 0:00:15\n",
      "   ------ --------------------------------- 20.6/124.9 MB 7.2 MB/s eta 0:00:15\n",
      "   ------ --------------------------------- 20.9/124.9 MB 7.2 MB/s eta 0:00:15\n",
      "   ------ --------------------------------- 21.2/124.9 MB 7.2 MB/s eta 0:00:15\n",
      "   ------ --------------------------------- 21.5/124.9 MB 7.2 MB/s eta 0:00:15\n",
      "   ------- -------------------------------- 21.9/124.9 MB 7.2 MB/s eta 0:00:15\n",
      "   ------- -------------------------------- 22.2/124.9 MB 7.2 MB/s eta 0:00:15\n",
      "   ------- -------------------------------- 22.5/124.9 MB 7.2 MB/s eta 0:00:15\n",
      "   ------- -------------------------------- 22.9/124.9 MB 7.2 MB/s eta 0:00:15\n",
      "   ------- -------------------------------- 23.2/124.9 MB 7.2 MB/s eta 0:00:15\n",
      "   ------- -------------------------------- 23.5/124.9 MB 7.2 MB/s eta 0:00:15\n",
      "   ------- -------------------------------- 23.8/124.9 MB 7.2 MB/s eta 0:00:15\n",
      "   ------- -------------------------------- 24.2/124.9 MB 7.2 MB/s eta 0:00:14\n",
      "   ------- -------------------------------- 24.5/124.9 MB 7.2 MB/s eta 0:00:14\n",
      "   ------- -------------------------------- 24.9/124.9 MB 7.2 MB/s eta 0:00:14\n",
      "   -------- ------------------------------- 25.2/124.9 MB 7.2 MB/s eta 0:00:14\n",
      "   -------- ------------------------------- 25.6/124.9 MB 7.2 MB/s eta 0:00:14\n",
      "   -------- ------------------------------- 25.9/124.9 MB 7.2 MB/s eta 0:00:14\n",
      "   -------- ------------------------------- 26.2/124.9 MB 7.2 MB/s eta 0:00:14\n",
      "   -------- ------------------------------- 26.6/124.9 MB 7.2 MB/s eta 0:00:14\n",
      "   -------- ------------------------------- 26.9/124.9 MB 7.2 MB/s eta 0:00:14\n",
      "   -------- ------------------------------- 27.2/124.9 MB 7.2 MB/s eta 0:00:14\n",
      "   -------- ------------------------------- 27.6/124.9 MB 7.2 MB/s eta 0:00:14\n",
      "   -------- ------------------------------- 27.9/124.9 MB 7.2 MB/s eta 0:00:14\n",
      "   --------- ------------------------------ 28.3/124.9 MB 7.2 MB/s eta 0:00:14\n",
      "   --------- ------------------------------ 28.6/124.9 MB 7.2 MB/s eta 0:00:14\n",
      "   --------- ------------------------------ 28.9/124.9 MB 7.2 MB/s eta 0:00:14\n",
      "   --------- ------------------------------ 29.3/124.9 MB 7.2 MB/s eta 0:00:14\n",
      "   --------- ------------------------------ 29.6/124.9 MB 7.2 MB/s eta 0:00:14\n",
      "   --------- ------------------------------ 30.0/124.9 MB 7.2 MB/s eta 0:00:14\n",
      "   --------- ------------------------------ 30.3/124.9 MB 7.2 MB/s eta 0:00:14\n",
      "   --------- ------------------------------ 30.6/124.9 MB 7.2 MB/s eta 0:00:14\n",
      "   --------- ------------------------------ 30.9/124.9 MB 7.2 MB/s eta 0:00:14\n",
      "   ---------- ----------------------------- 31.3/124.9 MB 7.2 MB/s eta 0:00:14\n",
      "   ---------- ----------------------------- 31.6/124.9 MB 7.2 MB/s eta 0:00:13\n",
      "   ---------- ----------------------------- 31.9/124.9 MB 7.3 MB/s eta 0:00:13\n",
      "   ---------- ----------------------------- 32.3/124.9 MB 7.2 MB/s eta 0:00:13\n",
      "   ---------- ----------------------------- 32.6/124.9 MB 7.2 MB/s eta 0:00:13\n",
      "   ---------- ----------------------------- 33.0/124.9 MB 7.2 MB/s eta 0:00:13\n",
      "   ---------- ----------------------------- 33.3/124.9 MB 7.2 MB/s eta 0:00:13\n",
      "   ---------- ----------------------------- 33.6/124.9 MB 7.2 MB/s eta 0:00:13\n",
      "   ---------- ----------------------------- 34.0/124.9 MB 7.2 MB/s eta 0:00:13\n",
      "   ---------- ----------------------------- 34.3/124.9 MB 7.2 MB/s eta 0:00:13\n",
      "   ----------- ---------------------------- 34.6/124.9 MB 7.2 MB/s eta 0:00:13\n",
      "   ----------- ---------------------------- 35.0/124.9 MB 7.3 MB/s eta 0:00:13\n",
      "   ----------- ---------------------------- 35.3/124.9 MB 7.3 MB/s eta 0:00:13\n",
      "   ----------- ---------------------------- 35.6/124.9 MB 7.3 MB/s eta 0:00:13\n",
      "   ----------- ---------------------------- 36.0/124.9 MB 7.3 MB/s eta 0:00:13\n",
      "   ----------- ---------------------------- 36.2/124.9 MB 7.2 MB/s eta 0:00:13\n",
      "   ----------- ---------------------------- 36.7/124.9 MB 7.3 MB/s eta 0:00:13\n",
      "   ----------- ---------------------------- 37.0/124.9 MB 7.3 MB/s eta 0:00:13\n",
      "   ----------- ---------------------------- 37.3/124.9 MB 7.3 MB/s eta 0:00:13\n",
      "   ------------ --------------------------- 37.7/124.9 MB 7.3 MB/s eta 0:00:12\n",
      "   ------------ --------------------------- 38.0/124.9 MB 7.3 MB/s eta 0:00:12\n",
      "   ------------ --------------------------- 38.3/124.9 MB 7.3 MB/s eta 0:00:12\n",
      "   ------------ --------------------------- 38.7/124.9 MB 7.3 MB/s eta 0:00:12\n",
      "   ------------ --------------------------- 39.0/124.9 MB 7.3 MB/s eta 0:00:12\n",
      "   ------------ --------------------------- 39.4/124.9 MB 7.3 MB/s eta 0:00:12\n",
      "   ------------ --------------------------- 39.7/124.9 MB 7.3 MB/s eta 0:00:12\n",
      "   ------------ --------------------------- 40.0/124.9 MB 7.3 MB/s eta 0:00:12\n",
      "   ------------ --------------------------- 40.4/124.9 MB 7.3 MB/s eta 0:00:12\n",
      "   ------------- -------------------------- 40.7/124.9 MB 7.3 MB/s eta 0:00:12\n",
      "   ------------- -------------------------- 41.1/124.9 MB 7.3 MB/s eta 0:00:12\n",
      "   ------------- -------------------------- 41.4/124.9 MB 7.3 MB/s eta 0:00:12\n",
      "   ------------- -------------------------- 41.7/124.9 MB 7.3 MB/s eta 0:00:12\n",
      "   ------------- -------------------------- 42.1/124.9 MB 7.3 MB/s eta 0:00:12\n",
      "   ------------- -------------------------- 42.4/124.9 MB 7.3 MB/s eta 0:00:12\n",
      "   ------------- -------------------------- 42.7/124.9 MB 7.3 MB/s eta 0:00:12\n",
      "   ------------- -------------------------- 43.1/124.9 MB 7.3 MB/s eta 0:00:12\n",
      "   ------------- -------------------------- 43.4/124.9 MB 7.3 MB/s eta 0:00:12\n",
      "   -------------- ------------------------- 43.7/124.9 MB 7.3 MB/s eta 0:00:12\n",
      "   -------------- ------------------------- 44.0/124.9 MB 7.3 MB/s eta 0:00:12\n",
      "   -------------- ------------------------- 44.3/124.9 MB 7.3 MB/s eta 0:00:12\n",
      "   -------------- ------------------------- 44.7/124.9 MB 7.3 MB/s eta 0:00:12\n",
      "   -------------- ------------------------- 45.0/124.9 MB 7.3 MB/s eta 0:00:11\n",
      "   -------------- ------------------------- 45.3/124.9 MB 7.3 MB/s eta 0:00:11\n",
      "   -------------- ------------------------- 45.6/124.9 MB 7.2 MB/s eta 0:00:12\n",
      "   -------------- ------------------------- 46.0/124.9 MB 7.2 MB/s eta 0:00:11\n",
      "   -------------- ------------------------- 46.3/124.9 MB 7.2 MB/s eta 0:00:11\n",
      "   -------------- ------------------------- 46.6/124.9 MB 7.2 MB/s eta 0:00:11\n",
      "   --------------- ------------------------ 46.9/124.9 MB 7.2 MB/s eta 0:00:11\n",
      "   --------------- ------------------------ 47.3/124.9 MB 7.2 MB/s eta 0:00:11\n",
      "   --------------- ------------------------ 47.6/124.9 MB 7.2 MB/s eta 0:00:11\n",
      "   --------------- ------------------------ 48.0/124.9 MB 7.2 MB/s eta 0:00:11\n",
      "   --------------- ------------------------ 48.3/124.9 MB 7.2 MB/s eta 0:00:11\n",
      "   --------------- ------------------------ 48.6/124.9 MB 7.2 MB/s eta 0:00:11\n",
      "   --------------- ------------------------ 49.0/124.9 MB 7.2 MB/s eta 0:00:11\n",
      "   --------------- ------------------------ 49.3/124.9 MB 7.3 MB/s eta 0:00:11\n",
      "   --------------- ------------------------ 49.6/124.9 MB 7.3 MB/s eta 0:00:11\n",
      "   ---------------- ----------------------- 50.0/124.9 MB 7.3 MB/s eta 0:00:11\n",
      "   ---------------- ----------------------- 50.3/124.9 MB 7.3 MB/s eta 0:00:11\n",
      "   ---------------- ----------------------- 50.6/124.9 MB 7.2 MB/s eta 0:00:11\n",
      "   ---------------- ----------------------- 50.9/124.9 MB 7.2 MB/s eta 0:00:11\n",
      "   ---------------- ----------------------- 51.3/124.9 MB 7.2 MB/s eta 0:00:11\n",
      "   ---------------- ----------------------- 51.6/124.9 MB 7.2 MB/s eta 0:00:11\n",
      "   ---------------- ----------------------- 52.0/124.9 MB 7.2 MB/s eta 0:00:11\n",
      "   ---------------- ----------------------- 52.3/124.9 MB 7.2 MB/s eta 0:00:11\n",
      "   ---------------- ----------------------- 52.6/124.9 MB 7.2 MB/s eta 0:00:11\n",
      "   ---------------- ----------------------- 53.0/124.9 MB 7.2 MB/s eta 0:00:10\n",
      "   ----------------- ---------------------- 53.3/124.9 MB 7.2 MB/s eta 0:00:10\n",
      "   ----------------- ---------------------- 53.7/124.9 MB 7.2 MB/s eta 0:00:10\n",
      "   ----------------- ---------------------- 54.0/124.9 MB 7.2 MB/s eta 0:00:10\n",
      "   ----------------- ---------------------- 54.4/124.9 MB 7.2 MB/s eta 0:00:10\n",
      "   ----------------- ---------------------- 54.7/124.9 MB 7.2 MB/s eta 0:00:10\n",
      "   ----------------- ---------------------- 55.0/124.9 MB 7.2 MB/s eta 0:00:10\n",
      "   ----------------- ---------------------- 55.3/124.9 MB 7.2 MB/s eta 0:00:10\n",
      "   ----------------- ---------------------- 55.6/124.9 MB 7.2 MB/s eta 0:00:10\n",
      "   ----------------- ---------------------- 56.0/124.9 MB 7.2 MB/s eta 0:00:10\n",
      "   ------------------ --------------------- 56.3/124.9 MB 7.2 MB/s eta 0:00:10\n",
      "   ------------------ --------------------- 56.6/124.9 MB 7.2 MB/s eta 0:00:10\n",
      "   ------------------ --------------------- 57.0/124.9 MB 7.2 MB/s eta 0:00:10\n",
      "   ------------------ --------------------- 57.3/124.9 MB 7.2 MB/s eta 0:00:10\n",
      "   ------------------ --------------------- 57.7/124.9 MB 7.2 MB/s eta 0:00:10\n",
      "   ------------------ --------------------- 58.0/124.9 MB 7.2 MB/s eta 0:00:10\n",
      "   ------------------ --------------------- 58.3/124.9 MB 7.2 MB/s eta 0:00:10\n",
      "   ------------------ --------------------- 58.7/124.9 MB 7.2 MB/s eta 0:00:10\n",
      "   ------------------ --------------------- 59.0/124.9 MB 7.1 MB/s eta 0:00:10\n",
      "   ------------------ --------------------- 59.3/124.9 MB 7.2 MB/s eta 0:00:10\n",
      "   ------------------- -------------------- 59.6/124.9 MB 7.1 MB/s eta 0:00:10\n",
      "   ------------------- -------------------- 60.0/124.9 MB 7.1 MB/s eta 0:00:10\n",
      "   ------------------- -------------------- 60.3/124.9 MB 7.1 MB/s eta 0:00:10\n",
      "   ------------------- -------------------- 60.6/124.9 MB 7.1 MB/s eta 0:00:10\n",
      "   ------------------- -------------------- 61.0/124.9 MB 7.1 MB/s eta 0:00:09\n",
      "   ------------------- -------------------- 61.3/124.9 MB 7.2 MB/s eta 0:00:09\n",
      "   ------------------- -------------------- 61.7/124.9 MB 7.2 MB/s eta 0:00:09\n",
      "   ------------------- -------------------- 62.0/124.9 MB 7.2 MB/s eta 0:00:09\n",
      "   ------------------- -------------------- 62.4/124.9 MB 7.2 MB/s eta 0:00:09\n",
      "   -------------------- ------------------- 62.7/124.9 MB 7.2 MB/s eta 0:00:09\n",
      "   -------------------- ------------------- 63.0/124.9 MB 7.2 MB/s eta 0:00:09\n",
      "   -------------------- ------------------- 63.3/124.9 MB 7.1 MB/s eta 0:00:09\n",
      "   -------------------- ------------------- 63.7/124.9 MB 7.1 MB/s eta 0:00:09\n",
      "   -------------------- ------------------- 64.0/124.9 MB 7.2 MB/s eta 0:00:09\n",
      "   -------------------- ------------------- 64.4/124.9 MB 7.2 MB/s eta 0:00:09\n",
      "   -------------------- ------------------- 64.7/124.9 MB 7.2 MB/s eta 0:00:09\n",
      "   -------------------- ------------------- 65.0/124.9 MB 7.1 MB/s eta 0:00:09\n",
      "   -------------------- ------------------- 65.4/124.9 MB 7.1 MB/s eta 0:00:09\n",
      "   --------------------- ------------------ 65.7/124.9 MB 7.2 MB/s eta 0:00:09\n",
      "   --------------------- ------------------ 66.0/124.9 MB 7.2 MB/s eta 0:00:09\n",
      "   --------------------- ------------------ 66.4/124.9 MB 7.3 MB/s eta 0:00:09\n",
      "   --------------------- ------------------ 66.7/124.9 MB 7.2 MB/s eta 0:00:09\n",
      "   --------------------- ------------------ 67.1/124.9 MB 7.2 MB/s eta 0:00:09\n",
      "   --------------------- ------------------ 67.4/124.9 MB 7.2 MB/s eta 0:00:08\n",
      "   --------------------- ------------------ 67.7/124.9 MB 7.2 MB/s eta 0:00:08\n",
      "   --------------------- ------------------ 68.1/124.9 MB 7.2 MB/s eta 0:00:08\n",
      "   --------------------- ------------------ 68.4/124.9 MB 7.2 MB/s eta 0:00:08\n",
      "   ---------------------- ----------------- 68.7/124.9 MB 7.2 MB/s eta 0:00:08\n",
      "   ---------------------- ----------------- 69.1/124.9 MB 7.3 MB/s eta 0:00:08\n",
      "   ---------------------- ----------------- 69.4/124.9 MB 7.3 MB/s eta 0:00:08\n",
      "   ---------------------- ----------------- 69.8/124.9 MB 7.3 MB/s eta 0:00:08\n",
      "   ---------------------- ----------------- 70.1/124.9 MB 7.3 MB/s eta 0:00:08\n",
      "   ---------------------- ----------------- 70.4/124.9 MB 7.3 MB/s eta 0:00:08\n",
      "   ---------------------- ----------------- 70.7/124.9 MB 7.3 MB/s eta 0:00:08\n",
      "   ---------------------- ----------------- 71.1/124.9 MB 7.3 MB/s eta 0:00:08\n",
      "   ---------------------- ----------------- 71.4/124.9 MB 7.3 MB/s eta 0:00:08\n",
      "   ---------------------- ----------------- 71.8/124.9 MB 7.2 MB/s eta 0:00:08\n",
      "   ----------------------- ---------------- 72.1/124.9 MB 7.3 MB/s eta 0:00:08\n",
      "   ----------------------- ---------------- 72.4/124.9 MB 7.2 MB/s eta 0:00:08\n",
      "   ----------------------- ---------------- 72.7/124.9 MB 7.2 MB/s eta 0:00:08\n",
      "   ----------------------- ---------------- 73.1/124.9 MB 7.2 MB/s eta 0:00:08\n",
      "   ----------------------- ---------------- 73.4/124.9 MB 7.2 MB/s eta 0:00:08\n",
      "   ----------------------- ---------------- 73.7/124.9 MB 7.2 MB/s eta 0:00:08\n",
      "   ----------------------- ---------------- 74.1/124.9 MB 7.2 MB/s eta 0:00:08\n",
      "   ----------------------- ---------------- 74.4/124.9 MB 7.2 MB/s eta 0:00:08\n",
      "   ----------------------- ---------------- 74.7/124.9 MB 7.2 MB/s eta 0:00:07\n",
      "   ------------------------ --------------- 75.0/124.9 MB 7.2 MB/s eta 0:00:07\n",
      "   ------------------------ --------------- 75.4/124.9 MB 7.2 MB/s eta 0:00:07\n",
      "   ------------------------ --------------- 75.7/124.9 MB 7.2 MB/s eta 0:00:07\n",
      "   ------------------------ --------------- 76.0/124.9 MB 7.3 MB/s eta 0:00:07\n",
      "   ------------------------ --------------- 76.4/124.9 MB 7.3 MB/s eta 0:00:07\n",
      "   ------------------------ --------------- 76.7/124.9 MB 7.2 MB/s eta 0:00:07\n",
      "   ------------------------ --------------- 77.0/124.9 MB 7.2 MB/s eta 0:00:07\n",
      "   ------------------------ --------------- 77.3/124.9 MB 7.2 MB/s eta 0:00:07\n",
      "   ------------------------ --------------- 77.7/124.9 MB 7.2 MB/s eta 0:00:07\n",
      "   ------------------------ --------------- 78.0/124.9 MB 7.2 MB/s eta 0:00:07\n",
      "   ------------------------- -------------- 78.4/124.9 MB 7.2 MB/s eta 0:00:07\n",
      "   ------------------------- -------------- 78.7/124.9 MB 7.2 MB/s eta 0:00:07\n",
      "   ------------------------- -------------- 79.0/124.9 MB 7.2 MB/s eta 0:00:07\n",
      "   ------------------------- -------------- 79.4/124.9 MB 7.2 MB/s eta 0:00:07\n",
      "   ------------------------- -------------- 79.7/124.9 MB 7.2 MB/s eta 0:00:07\n",
      "   ------------------------- -------------- 80.0/124.9 MB 7.2 MB/s eta 0:00:07\n",
      "   ------------------------- -------------- 80.4/124.9 MB 7.2 MB/s eta 0:00:07\n",
      "   ------------------------- -------------- 80.7/124.9 MB 7.2 MB/s eta 0:00:07\n",
      "   ------------------------- -------------- 81.0/124.9 MB 7.2 MB/s eta 0:00:07\n",
      "   -------------------------- ------------- 81.4/124.9 MB 7.2 MB/s eta 0:00:07\n",
      "   -------------------------- ------------- 81.7/124.9 MB 7.1 MB/s eta 0:00:07\n",
      "   -------------------------- ------------- 82.0/124.9 MB 7.1 MB/s eta 0:00:07\n",
      "   -------------------------- ------------- 82.4/124.9 MB 7.1 MB/s eta 0:00:06\n",
      "   -------------------------- ------------- 82.7/124.9 MB 7.1 MB/s eta 0:00:06\n",
      "   -------------------------- ------------- 83.0/124.9 MB 7.1 MB/s eta 0:00:06\n",
      "   -------------------------- ------------- 83.3/124.9 MB 7.1 MB/s eta 0:00:06\n",
      "   -------------------------- ------------- 83.7/124.9 MB 7.1 MB/s eta 0:00:06\n",
      "   -------------------------- ------------- 84.0/124.9 MB 7.1 MB/s eta 0:00:06\n",
      "   --------------------------- ------------ 84.3/124.9 MB 7.2 MB/s eta 0:00:06\n",
      "   --------------------------- ------------ 84.7/124.9 MB 7.2 MB/s eta 0:00:06\n",
      "   --------------------------- ------------ 85.0/124.9 MB 7.2 MB/s eta 0:00:06\n",
      "   --------------------------- ------------ 85.3/124.9 MB 7.2 MB/s eta 0:00:06\n",
      "   --------------------------- ------------ 85.6/124.9 MB 7.2 MB/s eta 0:00:06\n",
      "   --------------------------- ------------ 86.0/124.9 MB 7.2 MB/s eta 0:00:06\n",
      "   --------------------------- ------------ 86.3/124.9 MB 7.2 MB/s eta 0:00:06\n",
      "   --------------------------- ------------ 86.7/124.9 MB 7.2 MB/s eta 0:00:06\n",
      "   --------------------------- ------------ 87.0/124.9 MB 7.2 MB/s eta 0:00:06\n",
      "   --------------------------- ------------ 87.3/124.9 MB 7.2 MB/s eta 0:00:06\n",
      "   ---------------------------- ----------- 87.6/124.9 MB 7.2 MB/s eta 0:00:06\n",
      "   ---------------------------- ----------- 88.0/124.9 MB 7.2 MB/s eta 0:00:06\n",
      "   ---------------------------- ----------- 88.3/124.9 MB 7.2 MB/s eta 0:00:06\n",
      "   ---------------------------- ----------- 88.6/124.9 MB 7.2 MB/s eta 0:00:06\n",
      "   ---------------------------- ----------- 89.0/124.9 MB 7.2 MB/s eta 0:00:05\n",
      "   ---------------------------- ----------- 89.3/124.9 MB 7.2 MB/s eta 0:00:05\n",
      "   ---------------------------- ----------- 89.7/124.9 MB 7.2 MB/s eta 0:00:05\n",
      "   ---------------------------- ----------- 90.0/124.9 MB 7.2 MB/s eta 0:00:05\n",
      "   ---------------------------- ----------- 90.3/124.9 MB 7.2 MB/s eta 0:00:05\n",
      "   ----------------------------- ---------- 90.7/124.9 MB 7.2 MB/s eta 0:00:05\n",
      "   ----------------------------- ---------- 91.0/124.9 MB 7.2 MB/s eta 0:00:05\n",
      "   ----------------------------- ---------- 91.3/124.9 MB 7.2 MB/s eta 0:00:05\n",
      "   ----------------------------- ---------- 91.6/124.9 MB 7.1 MB/s eta 0:00:05\n",
      "   ----------------------------- ---------- 91.9/124.9 MB 7.2 MB/s eta 0:00:05\n",
      "   ----------------------------- ---------- 92.3/124.9 MB 7.1 MB/s eta 0:00:05\n",
      "   ----------------------------- ---------- 92.6/124.9 MB 7.1 MB/s eta 0:00:05\n",
      "   ----------------------------- ---------- 92.9/124.9 MB 7.2 MB/s eta 0:00:05\n",
      "   ----------------------------- ---------- 93.3/124.9 MB 7.2 MB/s eta 0:00:05\n",
      "   ----------------------------- ---------- 93.6/124.9 MB 7.2 MB/s eta 0:00:05\n",
      "   ------------------------------ --------- 94.0/124.9 MB 7.2 MB/s eta 0:00:05\n",
      "   ------------------------------ --------- 94.3/124.9 MB 7.2 MB/s eta 0:00:05\n",
      "   ------------------------------ --------- 94.6/124.9 MB 7.2 MB/s eta 0:00:05\n",
      "   ------------------------------ --------- 95.0/124.9 MB 7.2 MB/s eta 0:00:05\n",
      "   ------------------------------ --------- 95.3/124.9 MB 7.2 MB/s eta 0:00:05\n",
      "   ------------------------------ --------- 95.7/124.9 MB 7.2 MB/s eta 0:00:05\n",
      "   ------------------------------ --------- 96.0/124.9 MB 7.2 MB/s eta 0:00:05\n",
      "   ------------------------------ --------- 96.3/124.9 MB 7.2 MB/s eta 0:00:04\n",
      "   ------------------------------ --------- 96.6/124.9 MB 7.2 MB/s eta 0:00:04\n",
      "   ------------------------------- -------- 97.0/124.9 MB 7.2 MB/s eta 0:00:04\n",
      "   ------------------------------- -------- 97.3/124.9 MB 7.2 MB/s eta 0:00:04\n",
      "   ------------------------------- -------- 97.7/124.9 MB 7.2 MB/s eta 0:00:04\n",
      "   ------------------------------- -------- 98.0/124.9 MB 7.2 MB/s eta 0:00:04\n",
      "   ------------------------------- -------- 98.3/124.9 MB 7.2 MB/s eta 0:00:04\n",
      "   ------------------------------- -------- 98.7/124.9 MB 7.2 MB/s eta 0:00:04\n",
      "   ------------------------------- -------- 99.0/124.9 MB 7.2 MB/s eta 0:00:04\n",
      "   ------------------------------- -------- 99.4/124.9 MB 7.2 MB/s eta 0:00:04\n",
      "   ------------------------------- -------- 99.7/124.9 MB 7.2 MB/s eta 0:00:04\n",
      "   -------------------------------- ------- 100.1/124.9 MB 7.2 MB/s eta 0:00:04\n",
      "   -------------------------------- ------- 100.4/124.9 MB 7.2 MB/s eta 0:00:04\n",
      "   -------------------------------- ------- 100.7/124.9 MB 7.2 MB/s eta 0:00:04\n",
      "   -------------------------------- ------- 101.0/124.9 MB 7.2 MB/s eta 0:00:04\n",
      "   -------------------------------- ------- 101.4/124.9 MB 7.2 MB/s eta 0:00:04\n",
      "   -------------------------------- ------- 101.7/124.9 MB 7.2 MB/s eta 0:00:04\n",
      "   -------------------------------- ------- 102.0/124.9 MB 7.2 MB/s eta 0:00:04\n",
      "   -------------------------------- ------- 102.4/124.9 MB 7.3 MB/s eta 0:00:04\n",
      "   -------------------------------- ------- 102.7/124.9 MB 7.3 MB/s eta 0:00:04\n",
      "   -------------------------------- ------- 103.0/124.9 MB 7.3 MB/s eta 0:00:04\n",
      "   --------------------------------- ------ 103.3/124.9 MB 7.3 MB/s eta 0:00:03\n",
      "   --------------------------------- ------ 103.7/124.9 MB 7.3 MB/s eta 0:00:03\n",
      "   --------------------------------- ------ 104.0/124.9 MB 7.3 MB/s eta 0:00:03\n",
      "   --------------------------------- ------ 104.4/124.9 MB 7.3 MB/s eta 0:00:03\n",
      "   --------------------------------- ------ 104.7/124.9 MB 7.3 MB/s eta 0:00:03\n",
      "   --------------------------------- ------ 105.0/124.9 MB 7.3 MB/s eta 0:00:03\n",
      "   --------------------------------- ------ 105.3/124.9 MB 7.3 MB/s eta 0:00:03\n",
      "   --------------------------------- ------ 105.7/124.9 MB 7.2 MB/s eta 0:00:03\n",
      "   --------------------------------- ------ 106.0/124.9 MB 7.3 MB/s eta 0:00:03\n",
      "   ---------------------------------- ----- 106.3/124.9 MB 7.2 MB/s eta 0:00:03\n",
      "   ---------------------------------- ----- 106.7/124.9 MB 7.2 MB/s eta 0:00:03\n",
      "   ---------------------------------- ----- 107.0/124.9 MB 7.3 MB/s eta 0:00:03\n",
      "   ---------------------------------- ----- 107.3/124.9 MB 7.2 MB/s eta 0:00:03\n",
      "   ---------------------------------- ----- 107.7/124.9 MB 7.2 MB/s eta 0:00:03\n",
      "   ---------------------------------- ----- 108.0/124.9 MB 7.2 MB/s eta 0:00:03\n",
      "   ---------------------------------- ----- 108.4/124.9 MB 7.2 MB/s eta 0:00:03\n",
      "   ---------------------------------- ----- 108.7/124.9 MB 7.2 MB/s eta 0:00:03\n",
      "   ---------------------------------- ----- 109.0/124.9 MB 7.2 MB/s eta 0:00:03\n",
      "   ----------------------------------- ---- 109.4/124.9 MB 7.2 MB/s eta 0:00:03\n",
      "   ----------------------------------- ---- 109.7/124.9 MB 7.2 MB/s eta 0:00:03\n",
      "   ----------------------------------- ---- 110.0/124.9 MB 7.2 MB/s eta 0:00:03\n",
      "   ----------------------------------- ---- 110.4/124.9 MB 7.2 MB/s eta 0:00:03\n",
      "   ----------------------------------- ---- 110.7/124.9 MB 7.2 MB/s eta 0:00:02\n",
      "   ----------------------------------- ---- 111.1/124.9 MB 7.2 MB/s eta 0:00:02\n",
      "   ----------------------------------- ---- 111.4/124.9 MB 7.2 MB/s eta 0:00:02\n",
      "   ----------------------------------- ---- 111.8/124.9 MB 7.2 MB/s eta 0:00:02\n",
      "   ----------------------------------- ---- 112.1/124.9 MB 7.3 MB/s eta 0:00:02\n",
      "   ------------------------------------ --- 112.4/124.9 MB 7.2 MB/s eta 0:00:02\n",
      "   ------------------------------------ --- 112.8/124.9 MB 7.3 MB/s eta 0:00:02\n",
      "   ------------------------------------ --- 113.1/124.9 MB 7.2 MB/s eta 0:00:02\n",
      "   ------------------------------------ --- 113.4/124.9 MB 7.2 MB/s eta 0:00:02\n",
      "   ------------------------------------ --- 113.7/124.9 MB 7.3 MB/s eta 0:00:02\n",
      "   ------------------------------------ --- 114.1/124.9 MB 7.2 MB/s eta 0:00:02\n",
      "   ------------------------------------ --- 114.4/124.9 MB 7.2 MB/s eta 0:00:02\n",
      "   ------------------------------------ --- 114.7/124.9 MB 7.2 MB/s eta 0:00:02\n",
      "   ------------------------------------ --- 115.1/124.9 MB 7.3 MB/s eta 0:00:02\n",
      "   ------------------------------------ --- 115.5/124.9 MB 7.3 MB/s eta 0:00:02\n",
      "   ------------------------------------- -- 115.8/124.9 MB 7.3 MB/s eta 0:00:02\n",
      "   ------------------------------------- -- 116.1/124.9 MB 7.3 MB/s eta 0:00:02\n",
      "   ------------------------------------- -- 116.5/124.9 MB 7.3 MB/s eta 0:00:02\n",
      "   ------------------------------------- -- 116.8/124.9 MB 7.3 MB/s eta 0:00:02\n",
      "   ------------------------------------- -- 117.1/124.9 MB 7.3 MB/s eta 0:00:02\n",
      "   ------------------------------------- -- 117.5/124.9 MB 7.3 MB/s eta 0:00:02\n",
      "   ------------------------------------- -- 117.8/124.9 MB 7.2 MB/s eta 0:00:01\n",
      "   ------------------------------------- -- 118.1/124.9 MB 7.3 MB/s eta 0:00:01\n",
      "   ------------------------------------- -- 118.5/124.9 MB 7.3 MB/s eta 0:00:01\n",
      "   -------------------------------------- - 118.8/124.9 MB 7.3 MB/s eta 0:00:01\n",
      "   -------------------------------------- - 119.1/124.9 MB 7.2 MB/s eta 0:00:01\n",
      "   -------------------------------------- - 119.4/124.9 MB 7.3 MB/s eta 0:00:01\n",
      "   -------------------------------------- - 119.8/124.9 MB 7.2 MB/s eta 0:00:01\n",
      "   -------------------------------------- - 120.1/124.9 MB 7.2 MB/s eta 0:00:01\n",
      "   -------------------------------------- - 120.4/124.9 MB 7.2 MB/s eta 0:00:01\n",
      "   -------------------------------------- - 120.8/124.9 MB 7.2 MB/s eta 0:00:01\n",
      "   -------------------------------------- - 121.1/124.9 MB 7.3 MB/s eta 0:00:01\n",
      "   -------------------------------------- - 121.4/124.9 MB 7.3 MB/s eta 0:00:01\n",
      "   -------------------------------------- - 121.8/124.9 MB 7.3 MB/s eta 0:00:01\n",
      "   ---------------------------------------  122.1/124.9 MB 7.3 MB/s eta 0:00:01\n",
      "   ---------------------------------------  122.4/124.9 MB 7.3 MB/s eta 0:00:01\n",
      "   ---------------------------------------  122.8/124.9 MB 7.3 MB/s eta 0:00:01\n",
      "   ---------------------------------------  123.1/124.9 MB 7.3 MB/s eta 0:00:01\n",
      "   ---------------------------------------  123.4/124.9 MB 7.3 MB/s eta 0:00:01\n",
      "   ---------------------------------------  123.8/124.9 MB 7.3 MB/s eta 0:00:01\n",
      "   ---------------------------------------  124.1/124.9 MB 7.3 MB/s eta 0:00:01\n",
      "   ---------------------------------------  124.5/124.9 MB 7.3 MB/s eta 0:00:01\n",
      "   ---------------------------------------  124.8/124.9 MB 7.2 MB/s eta 0:00:01\n",
      "   ---------------------------------------  124.9/124.9 MB 7.2 MB/s eta 0:00:01\n",
      "   ---------------------------------------  124.9/124.9 MB 7.2 MB/s eta 0:00:01\n",
      "   ---------------------------------------  124.9/124.9 MB 6.8 MB/s eta 0:00:01\n",
      "   ---------------------------------------  124.9/124.9 MB 6.8 MB/s eta 0:00:01\n",
      "   ---------------------------------------  124.9/124.9 MB 6.8 MB/s eta 0:00:01\n",
      "   ---------------------------------------  124.9/124.9 MB 6.8 MB/s eta 0:00:01\n",
      "   ---------------------------------------  124.9/124.9 MB 6.8 MB/s eta 0:00:01\n",
      "   ---------------------------------------- 124.9/124.9 MB 5.8 MB/s eta 0:00:00\n",
      "Installing collected packages: xgboost\n",
      "Successfully installed xgboost-2.1.2\n"
     ]
    }
   ],
   "source": [
    "!pip install xgboost"
   ]
  },
  {
   "cell_type": "code",
   "execution_count": 180,
   "id": "aa47664c-d418-483a-a84b-0dd2ea01a9fb",
   "metadata": {},
   "outputs": [],
   "source": [
    "# Import necessary libraries\n",
    "from sklearn.model_selection import train_test_split\n",
    "from sklearn.linear_model import LinearRegression\n",
    "from sklearn.ensemble import RandomForestRegressor\n",
    "from sklearn.ensemble import GradientBoostingRegressor\n",
    "from sklearn.tree import DecisionTreeRegressor\n",
    "from sklearn.neighbors import KNeighborsRegressor\n",
    "from xgboost import XGBRegressor\n",
    "from sklearn import metrics\n",
    "from sklearn.metrics import r2_score\n",
    "from sklearn.metrics import mean_squared_error\n"
   ]
  },
  {
   "cell_type": "code",
   "execution_count": 198,
   "id": "125e5947-c011-4167-8253-bc660b94d012",
   "metadata": {},
   "outputs": [],
   "source": [
    "from xgboost import XGBRegressor\n",
    "import xgboost"
   ]
  },
  {
   "cell_type": "code",
   "execution_count": 200,
   "id": "7ff0f4e7-421c-48cc-9b71-fc0091aa5038",
   "metadata": {},
   "outputs": [],
   "source": [
    "gbr = GradientBoostingRegressor(random_state=0)\n",
    "xgb = xgboost.XGBRegressor(n_jobs=-1)\n",
    "rf = RandomForestRegressor(n_jobs=-1)\n",
    "ds = DecisionTreeRegressor()"
   ]
  },
  {
   "cell_type": "code",
   "execution_count": 202,
   "id": "12ba29cf-0bc4-4a94-9515-03e972a22d01",
   "metadata": {},
   "outputs": [],
   "source": [
    "\n",
    "reg = {\n",
    "\"LinearRegression\": LinearRegression(),\n",
    "\"KNeighborsRegressor\":KNeighborsRegressor(n_neighbors=2),\n",
    "\"GradientBoostingRegressor\":GradientBoostingRegressor(random_state=0),\n",
    "\"DecisionTreeRegressor\": DecisionTreeRegressor(),\n",
    "\"RandomForestRegressor\": RandomForestRegressor(n_jobs=-1),\n",
    "\"XGBRegressor\":xgboost.XGBRegressor(n_jobs=-1)\n",
    "}"
   ]
  },
  {
   "cell_type": "code",
   "execution_count": 204,
   "id": "ee10fa71-676d-4cea-90ba-09a4d7bc8c46",
   "metadata": {},
   "outputs": [
    {
     "name": "stdout",
     "output_type": "stream",
     "text": [
      "--------------------------------------------------------------\n",
      "Model: LinearRegression\n",
      "-----Data Evalution-----\n",
      "R2 Value:  0.5127941146095791\n",
      "RMSE:  0.09491738880405716\n",
      "--------------------------------------------------------------\n",
      "Model: KNeighborsRegressor\n",
      "-----Data Evalution-----\n",
      "R2 Value:  0.37769589465759923\n",
      "RMSE:  0.10727310521805947\n",
      "--------------------------------------------------------------\n",
      "Model: GradientBoostingRegressor\n",
      "-----Data Evalution-----\n",
      "R2 Value:  0.5953682311974898\n",
      "RMSE:  0.08650067729596626\n",
      "--------------------------------------------------------------\n",
      "Model: DecisionTreeRegressor\n",
      "-----Data Evalution-----\n",
      "R2 Value:  0.2407269224104438\n",
      "RMSE:  0.11849186079339188\n",
      "--------------------------------------------------------------\n",
      "Model: RandomForestRegressor\n",
      "-----Data Evalution-----\n",
      "R2 Value:  0.5567606514550361\n",
      "RMSE:  0.09053336716679956\n",
      "--------------------------------------------------------------\n",
      "Model: XGBRegressor\n",
      "-----Data Evalution-----\n",
      "R2 Value:  0.5122657657752405\n",
      "RMSE:  0.09496884128491834\n"
     ]
    }
   ],
   "source": [
    "# Function to evaluate model performance\n",
    "dic =  {\"Model\":[],\"R2_Score\":[],\"RMSE_Score\":[]}\n",
    "for name, model in reg.items():\n",
    "\n",
    "   \n",
    "  model.fit(train_x, train_y)\n",
    "  y_pre = model.predict(test_x)\n",
    "  r2 = r2_score(test_y, y_pre)\n",
    "  rmse  = np.sqrt(mean_squared_error(test_y, y_pre))\n",
    "  print(\"--------------------------------------------------------------\")\n",
    "  print(\"Model:\", name)\n",
    "  print(\"-----Data Evalution-----\")\n",
    "  print(\"R2 Value: \", r2_score(test_y, y_pre))\n",
    "  print(\"RMSE: \",np.sqrt(mean_squared_error(test_y, y_pre)))\n",
    "  dic[\"Model\"].append(name)\n",
    "  dic[\"R2_Score\"].append(r2)\n",
    "  dic[\"RMSE_Score\"].append(rmse)"
   ]
  },
  {
   "cell_type": "code",
   "execution_count": 206,
   "id": "a11777ac-1252-4eba-91bf-fcb82d74ed7a",
   "metadata": {},
   "outputs": [
    {
     "data": {
      "text/html": [
       "<div>\n",
       "<style scoped>\n",
       "    .dataframe tbody tr th:only-of-type {\n",
       "        vertical-align: middle;\n",
       "    }\n",
       "\n",
       "    .dataframe tbody tr th {\n",
       "        vertical-align: top;\n",
       "    }\n",
       "\n",
       "    .dataframe thead th {\n",
       "        text-align: right;\n",
       "    }\n",
       "</style>\n",
       "<table border=\"1\" class=\"dataframe\">\n",
       "  <thead>\n",
       "    <tr style=\"text-align: right;\">\n",
       "      <th></th>\n",
       "      <th>Model</th>\n",
       "      <th>R2_Score</th>\n",
       "      <th>RMSE_Score</th>\n",
       "    </tr>\n",
       "  </thead>\n",
       "  <tbody>\n",
       "    <tr>\n",
       "      <th>0</th>\n",
       "      <td>LinearRegression</td>\n",
       "      <td>0.512794</td>\n",
       "      <td>0.094917</td>\n",
       "    </tr>\n",
       "    <tr>\n",
       "      <th>1</th>\n",
       "      <td>KNeighborsRegressor</td>\n",
       "      <td>0.377696</td>\n",
       "      <td>0.107273</td>\n",
       "    </tr>\n",
       "    <tr>\n",
       "      <th>2</th>\n",
       "      <td>GradientBoostingRegressor</td>\n",
       "      <td>0.595368</td>\n",
       "      <td>0.086501</td>\n",
       "    </tr>\n",
       "    <tr>\n",
       "      <th>3</th>\n",
       "      <td>DecisionTreeRegressor</td>\n",
       "      <td>0.240727</td>\n",
       "      <td>0.118492</td>\n",
       "    </tr>\n",
       "    <tr>\n",
       "      <th>4</th>\n",
       "      <td>RandomForestRegressor</td>\n",
       "      <td>0.556761</td>\n",
       "      <td>0.090533</td>\n",
       "    </tr>\n",
       "    <tr>\n",
       "      <th>5</th>\n",
       "      <td>XGBRegressor</td>\n",
       "      <td>0.512266</td>\n",
       "      <td>0.094969</td>\n",
       "    </tr>\n",
       "  </tbody>\n",
       "</table>\n",
       "</div>"
      ],
      "text/plain": [
       "                       Model  R2_Score  RMSE_Score\n",
       "0           LinearRegression  0.512794    0.094917\n",
       "1        KNeighborsRegressor  0.377696    0.107273\n",
       "2  GradientBoostingRegressor  0.595368    0.086501\n",
       "3      DecisionTreeRegressor  0.240727    0.118492\n",
       "4      RandomForestRegressor  0.556761    0.090533\n",
       "5               XGBRegressor  0.512266    0.094969"
      ]
     },
     "execution_count": 206,
     "metadata": {},
     "output_type": "execute_result"
    }
   ],
   "source": [
    "final_model = pd.DataFrame(dic)\n",
    "final_model\n"
   ]
  },
  {
   "cell_type": "code",
   "execution_count": 208,
   "id": "2acde5a3-d5a2-48f0-a933-10cf808f1f9a",
   "metadata": {},
   "outputs": [
    {
     "data": {
      "text/html": [
       "<div>\n",
       "<style scoped>\n",
       "    .dataframe tbody tr th:only-of-type {\n",
       "        vertical-align: middle;\n",
       "    }\n",
       "\n",
       "    .dataframe tbody tr th {\n",
       "        vertical-align: top;\n",
       "    }\n",
       "\n",
       "    .dataframe thead th {\n",
       "        text-align: right;\n",
       "    }\n",
       "</style>\n",
       "<table border=\"1\" class=\"dataframe\">\n",
       "  <thead>\n",
       "    <tr style=\"text-align: right;\">\n",
       "      <th></th>\n",
       "      <th>Model</th>\n",
       "      <th>R2_Score</th>\n",
       "      <th>RMSE_Score</th>\n",
       "    </tr>\n",
       "  </thead>\n",
       "  <tbody>\n",
       "    <tr>\n",
       "      <th>2</th>\n",
       "      <td>GradientBoostingRegressor</td>\n",
       "      <td>0.595368</td>\n",
       "      <td>0.086501</td>\n",
       "    </tr>\n",
       "    <tr>\n",
       "      <th>4</th>\n",
       "      <td>RandomForestRegressor</td>\n",
       "      <td>0.556761</td>\n",
       "      <td>0.090533</td>\n",
       "    </tr>\n",
       "    <tr>\n",
       "      <th>0</th>\n",
       "      <td>LinearRegression</td>\n",
       "      <td>0.512794</td>\n",
       "      <td>0.094917</td>\n",
       "    </tr>\n",
       "    <tr>\n",
       "      <th>5</th>\n",
       "      <td>XGBRegressor</td>\n",
       "      <td>0.512266</td>\n",
       "      <td>0.094969</td>\n",
       "    </tr>\n",
       "    <tr>\n",
       "      <th>1</th>\n",
       "      <td>KNeighborsRegressor</td>\n",
       "      <td>0.377696</td>\n",
       "      <td>0.107273</td>\n",
       "    </tr>\n",
       "    <tr>\n",
       "      <th>3</th>\n",
       "      <td>DecisionTreeRegressor</td>\n",
       "      <td>0.240727</td>\n",
       "      <td>0.118492</td>\n",
       "    </tr>\n",
       "  </tbody>\n",
       "</table>\n",
       "</div>"
      ],
      "text/plain": [
       "                       Model  R2_Score  RMSE_Score\n",
       "2  GradientBoostingRegressor  0.595368    0.086501\n",
       "4      RandomForestRegressor  0.556761    0.090533\n",
       "0           LinearRegression  0.512794    0.094917\n",
       "5               XGBRegressor  0.512266    0.094969\n",
       "1        KNeighborsRegressor  0.377696    0.107273\n",
       "3      DecisionTreeRegressor  0.240727    0.118492"
      ]
     },
     "execution_count": 208,
     "metadata": {},
     "output_type": "execute_result"
    }
   ],
   "source": [
    "final_model.sort_values(\"RMSE_Score\", axis = 0, ascending = True)"
   ]
  },
  {
   "cell_type": "code",
   "execution_count": null,
   "id": "dc4f9e02-5315-45e9-98f0-9f7f55ef547e",
   "metadata": {},
   "outputs": [],
   "source": []
  }
 ],
 "metadata": {
  "kernelspec": {
   "display_name": "Python 3 (ipykernel)",
   "language": "python",
   "name": "python3"
  },
  "language_info": {
   "codemirror_mode": {
    "name": "ipython",
    "version": 3
   },
   "file_extension": ".py",
   "mimetype": "text/x-python",
   "name": "python",
   "nbconvert_exporter": "python",
   "pygments_lexer": "ipython3",
   "version": "3.12.4"
  }
 },
 "nbformat": 4,
 "nbformat_minor": 5
}
